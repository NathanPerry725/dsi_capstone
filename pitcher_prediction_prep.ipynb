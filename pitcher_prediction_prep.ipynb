{
 "cells": [
  {
   "cell_type": "code",
   "execution_count": 33,
   "metadata": {
    "ExecuteTime": {
     "end_time": "2021-07-02T18:07:00.681898Z",
     "start_time": "2021-07-02T18:07:00.667438Z"
    }
   },
   "outputs": [],
   "source": [
    "import pandas as pd"
   ]
  },
  {
   "cell_type": "code",
   "execution_count": 34,
   "metadata": {
    "ExecuteTime": {
     "end_time": "2021-07-02T18:07:00.751991Z",
     "start_time": "2021-07-02T18:07:00.684436Z"
    }
   },
   "outputs": [],
   "source": [
    "pitch_df = pd.read_csv('./Datasets/pitcher_stats.csv')\n",
    "lineups = pd.read_csv('./Datasets/Lineups_2021_07_02.csv')\n",
    "bat_df = pd.read_csv('./Datasets/batter_stats.csv')"
   ]
  },
  {
   "cell_type": "code",
   "execution_count": 35,
   "metadata": {
    "ExecuteTime": {
     "end_time": "2021-07-02T18:07:00.761234Z",
     "start_time": "2021-07-02T18:07:00.753577Z"
    }
   },
   "outputs": [],
   "source": [
    "lineups.loc[:,' player name'] = lineups[' player name'].str.replace('.', '')\n",
    "pitch_df.loc[:,'Name'] = pitch_df['Name'].str.replace('.', '')\n",
    "bat_df.loc[:,'Name'] = bat_df['Name'].str.replace('.', '')"
   ]
  },
  {
   "cell_type": "code",
   "execution_count": 36,
   "metadata": {
    "ExecuteTime": {
     "end_time": "2021-07-02T18:07:00.767319Z",
     "start_time": "2021-07-02T18:07:00.762639Z"
    }
   },
   "outputs": [],
   "source": [
    "bats_r = bat_df[bat_df['bats'] == 'R']\n",
    "bats_l = bat_df[bat_df['bats'] == 'L']"
   ]
  },
  {
   "cell_type": "code",
   "execution_count": 37,
   "metadata": {
    "ExecuteTime": {
     "end_time": "2021-07-02T18:07:00.773320Z",
     "start_time": "2021-07-02T18:07:00.768206Z"
    }
   },
   "outputs": [],
   "source": [
    "lineups.columns = lineups.columns.str.replace(' player name', 'Name')\n",
    "lineups.loc[lineups['Name'] == 'Jonathan Gray', 'Name'] = 'Jon Gray'\n",
    "pitch_df.drop(456, inplace = True)"
   ]
  },
  {
   "cell_type": "code",
   "execution_count": 38,
   "metadata": {
    "ExecuteTime": {
     "end_time": "2021-07-02T18:07:00.777677Z",
     "start_time": "2021-07-02T18:07:00.774765Z"
    }
   },
   "outputs": [],
   "source": [
    "# Creates a list of teams with no repeats\n",
    "# The order needs to be kept from the dataframe because \n",
    "# opposing teams are paired\n",
    "team_list = []\n",
    "for team in lineups['team code']:\n",
    "    if team not in team_list:\n",
    "        team_list.append(team)\n",
    "# Creating a dictionary of every team, and the team they face\n",
    "matchups = {}\n",
    "for i in range(1, len(team_list), 2):\n",
    "    matchups[team_list[i]] = team_list[i-1]\n",
    "    matchups[team_list[i-1]] = team_list[i]"
   ]
  },
  {
   "cell_type": "code",
   "execution_count": 39,
   "metadata": {
    "ExecuteTime": {
     "end_time": "2021-07-02T18:07:00.781690Z",
     "start_time": "2021-07-02T18:07:00.778626Z"
    }
   },
   "outputs": [],
   "source": [
    "batters = lineups.loc[(lineups[' batting order'] != 'SP') & (lineups[' game_number'] == 1)]"
   ]
  },
  {
   "cell_type": "code",
   "execution_count": 40,
   "metadata": {
    "ExecuteTime": {
     "end_time": "2021-07-02T18:07:01.330890Z",
     "start_time": "2021-07-02T18:07:00.782636Z"
    }
   },
   "outputs": [
    {
     "name": "stderr",
     "output_type": "stream",
     "text": [
      "/Users/nperry725/opt/anaconda3/lib/python3.8/site-packages/pandas/core/frame.py:4163: SettingWithCopyWarning: \n",
      "A value is trying to be set on a copy of a slice from a DataFrame\n",
      "\n",
      "See the caveats in the documentation: https://pandas.pydata.org/pandas-docs/stable/user_guide/indexing.html#returning-a-view-versus-a-copy\n",
      "  return super().drop(\n",
      "<ipython-input-40-a4b56b56add5>:19: SettingWithCopyWarning: \n",
      "A value is trying to be set on a copy of a slice from a DataFrame.\n",
      "Try using .loc[row_indexer,col_indexer] = value instead\n",
      "\n",
      "See the caveats in the documentation: https://pandas.pydata.org/pandas-docs/stable/user_guide/indexing.html#returning-a-view-versus-a-copy\n",
      "  batters['opp_pitch_hand'] = opp_pitch_hand\n",
      "<ipython-input-40-a4b56b56add5>:20: SettingWithCopyWarning: \n",
      "A value is trying to be set on a copy of a slice from a DataFrame.\n",
      "Try using .loc[row_indexer,col_indexer] = value instead\n",
      "\n",
      "See the caveats in the documentation: https://pandas.pydata.org/pandas-docs/stable/user_guide/indexing.html#returning-a-view-versus-a-copy\n",
      "  batters['opp_pitch'] = opp_pitcher\n"
     ]
    }
   ],
   "source": [
    "opp_pitch_hand = []\n",
    "opp_pitcher = []\n",
    "del_indexes = []\n",
    "keep_pitch = []\n",
    "for i, row in batters.iterrows():\n",
    "    if len(lineups.loc[(lineups['team code'] == matchups[row['team code']])\\\n",
    "                            & (lineups[' batting order'] == 'SP') & (lineups[' game_number'] == 1), 'Name'].values) > 0: \n",
    "        opp_pitch = lineups.loc[(lineups['team code'] == matchups[row['team code']])\\\n",
    "                                & (lineups[' batting order'] == 'SP') & (lineups[' game_number'] == 1), 'Name'].values[0]\n",
    "        if len(pitch_df.sort_values(by = 'IP', ascending = False).loc[pitch_df['Name'] == opp_pitch, 'throws'].values) > 0:\n",
    "                opp_pitch_hand.append(pitch_df.sort_values(by = 'IP', ascending = False).loc[pitch_df['Name'] == opp_pitch, 'throws'].values[0])\n",
    "                opp_pitcher.append(opp_pitch)\n",
    "                keep_pitch.append(opp_pitch)\n",
    "        else:\n",
    "            del_indexes.append(i)\n",
    "    else:\n",
    "        del_indexes.append(i)\n",
    "batters.drop(index = del_indexes, inplace = True)\n",
    "batters['opp_pitch_hand'] = opp_pitch_hand\n",
    "batters['opp_pitch'] = opp_pitcher"
   ]
  },
  {
   "cell_type": "code",
   "execution_count": 41,
   "metadata": {
    "ExecuteTime": {
     "end_time": "2021-07-02T18:07:01.541841Z",
     "start_time": "2021-07-02T18:07:01.332923Z"
    }
   },
   "outputs": [
    {
     "name": "stderr",
     "output_type": "stream",
     "text": [
      "<ipython-input-41-0499cefeeb18>:31: SettingWithCopyWarning: \n",
      "A value is trying to be set on a copy of a slice from a DataFrame.\n",
      "Try using .loc[row_indexer,col_indexer] = value instead\n",
      "\n",
      "See the caveats in the documentation: https://pandas.pydata.org/pandas-docs/stable/user_guide/indexing.html#returning-a-view-versus-a-copy\n",
      "  batter_df[col] = [float('NaN')]\n",
      "/Users/nperry725/opt/anaconda3/lib/python3.8/site-packages/pandas/core/indexing.py:1596: SettingWithCopyWarning: \n",
      "A value is trying to be set on a copy of a slice from a DataFrame.\n",
      "Try using .loc[row_indexer,col_indexer] = value instead\n",
      "\n",
      "See the caveats in the documentation: https://pandas.pydata.org/pandas-docs/stable/user_guide/indexing.html#returning-a-view-versus-a-copy\n",
      "  self.obj[key] = _infer_fill_value(value)\n",
      "/Users/nperry725/opt/anaconda3/lib/python3.8/site-packages/pandas/core/indexing.py:1745: SettingWithCopyWarning: \n",
      "A value is trying to be set on a copy of a slice from a DataFrame.\n",
      "Try using .loc[row_indexer,col_indexer] = value instead\n",
      "\n",
      "See the caveats in the documentation: https://pandas.pydata.org/pandas-docs/stable/user_guide/indexing.html#returning-a-view-versus-a-copy\n",
      "  isetter(ilocs[0], value)\n"
     ]
    }
   ],
   "source": [
    "bats = []\n",
    "k_pct = []\n",
    "bb_pct = []\n",
    "bb_k = []\n",
    "bat_avg = []\n",
    "obp = []\n",
    "slg = []\n",
    "ops = []\n",
    "iso = []\n",
    "babip = []\n",
    "wrc = []\n",
    "wraa = []\n",
    "woba = []\n",
    "wrc_plus = []\n",
    "for i, row in batters.iterrows():\n",
    "    # Pulling stats based on handedness of pitcher\n",
    "    if row['opp_pitch_hand'] == 'R':\n",
    "        batter_df = bat_df.loc[(bat_df['pitch']== 'R')&(bat_df['Name']==row['Name'])]\n",
    "        # Checking for switch hitters\n",
    "        if len(batter_df) == 2:\n",
    "            # A switch hitter will hit using the opposite hand of the pitcher\n",
    "            batter_df = batter_df.loc[batter_df['bats']== 'L']\n",
    "    if row['opp_pitch_hand'] == 'L':\n",
    "        batter_df = bat_df.loc[(bat_df['pitch']== 'L')&(bat_df['Name']==row['Name'])]\n",
    "        # Checking for switch hitters\n",
    "        if len(batter_df) == 2:\n",
    "            # A switch hitter will hit using the opposite hand of the pitcher\n",
    "            batter_df = batter_df.loc[batter_df['bats']== 'R']\n",
    "    if len(batter_df) == 0:\n",
    "        for col in batter_df.columns:\n",
    "            batter_df[col] = [float('NaN')]\n",
    "    bats.append(batter_df['bats'].values[0])\n",
    "    k_pct.append(batter_df['K%'].values[0])\n",
    "    bb_pct.append(batter_df['BB%'].values[0])\n",
    "    bb_k.append(batter_df['BB/K'].values[0])\n",
    "    bat_avg.append(batter_df['AVG'].values[0])\n",
    "    obp.append(batter_df['OBP'].values[0])\n",
    "    slg.append(batter_df['SLG'].values[0])\n",
    "    ops.append(batter_df['OPS'].values[0])\n",
    "    iso.append(batter_df['ISO'].values[0])\n",
    "    babip.append(batter_df['BABIP'].values[0])\n",
    "    wrc.append(batter_df['wRC'].values[0])\n",
    "    wraa.append(batter_df['wRAA'].values[0])\n",
    "    woba.append(batter_df['wOBA'].values[0])\n",
    "    wrc_plus.append(batter_df['wRC+'].values[0])\n",
    "batters.loc[:,'bats'] = bats\n",
    "batters.loc[:,'k_pct'] = k_pct\n",
    "batters.loc[:,'bb_pct'] = bb_pct\n",
    "batters.loc[:,'bb_k'] = bb_k\n",
    "batters.loc[:,'bat_avg'] = bat_avg\n",
    "batters.loc[:,'obp'] = obp\n",
    "batters.loc[:,'slg'] = slg\n",
    "batters.loc[:,'ops'] = ops\n",
    "batters.loc[:,'iso'] = iso\n",
    "batters.loc[:,'babip'] = babip\n",
    "batters.loc[:,'wrc'] = wrc\n",
    "batters.loc[:,'wraa'] = wraa\n",
    "batters.loc[:,'woba'] = woba\n",
    "batters.loc[:,'wrc_plus'] = wrc_plus"
   ]
  },
  {
   "cell_type": "code",
   "execution_count": 42,
   "metadata": {
    "ExecuteTime": {
     "end_time": "2021-07-02T18:07:01.545852Z",
     "start_time": "2021-07-02T18:07:01.543140Z"
    }
   },
   "outputs": [],
   "source": [
    "pitchers = lineups.loc[(lineups[' batting order'] == 'SP')]\n",
    "pitchers = pitchers[pitchers['Name'].isin(keep_pitch)]"
   ]
  },
  {
   "cell_type": "code",
   "execution_count": 43,
   "metadata": {
    "ExecuteTime": {
     "end_time": "2021-07-02T18:07:01.611354Z",
     "start_time": "2021-07-02T18:07:01.546710Z"
    }
   },
   "outputs": [
    {
     "name": "stderr",
     "output_type": "stream",
     "text": [
      "/Users/nperry725/opt/anaconda3/lib/python3.8/site-packages/pandas/core/indexing.py:1765: SettingWithCopyWarning: \n",
      "A value is trying to be set on a copy of a slice from a DataFrame.\n",
      "Try using .loc[row_indexer,col_indexer] = value instead\n",
      "\n",
      "See the caveats in the documentation: https://pandas.pydata.org/pandas-docs/stable/user_guide/indexing.html#returning-a-view-versus-a-copy\n",
      "  isetter(loc, value)\n"
     ]
    }
   ],
   "source": [
    "num_L_bats = []\n",
    "num_R_bats = []\n",
    "for i, row in pitchers.iterrows():\n",
    "    opp_lineup = batters.loc[(batters['team code'] == matchups[row['team code']]),:]\n",
    "    find_batters = []\n",
    "    # There are batters whos data was null due to lack of plate appearances but handedness is known\n",
    "    for j, row2 in opp_lineup.iterrows():\n",
    "        if row2['bats'] != 'R' and row2['bats'] != 'L':\n",
    "            find_bats = bat_df.loc[bat_df['Name'] == row2['Name'],:]\n",
    "            if len(find_bats) > 0:\n",
    "                find_batters.append((j, find_bats['bats'].values[0]))\n",
    "            # If batter handedness is unknown, right is more likely\n",
    "            if len(find_bats) == 0:\n",
    "                find_batters.append((j, 'R'))\n",
    "    for handedness in find_batters:\n",
    "        opp_lineup.loc[handedness[0], 'bats'] = handedness[1]\n",
    "    try:\n",
    "        num_L_bats.append(opp_lineup['bats'].value_counts()['L'])\n",
    "    except:\n",
    "        num_L_bats.append(0)\n",
    "    try:\n",
    "        num_R_bats.append(opp_lineup['bats'].value_counts()['R'])\n",
    "    except:\n",
    "        num_R_bats.append(0)\n",
    "pitchers['num_L_bats'] = num_L_bats\n",
    "pitchers['num_R_bats'] = num_R_bats\n",
    "is_nl = []\n",
    "for i, row in pitchers.iterrows():\n",
    "    if row['num_L_bats'] + row['num_R_bats'] == 9:\n",
    "        is_nl.append(0)\n",
    "    else:\n",
    "        is_nl.append(1)\n",
    "pitchers['is_nl'] = is_nl"
   ]
  },
  {
   "cell_type": "code",
   "execution_count": 44,
   "metadata": {
    "ExecuteTime": {
     "end_time": "2021-07-02T18:07:01.711689Z",
     "start_time": "2021-07-02T18:07:01.612412Z"
    }
   },
   "outputs": [],
   "source": [
    "k_9_l = []\n",
    "bb_9_l = []\n",
    "k_bb_l = []\n",
    "hr_9_l = []\n",
    "k_pct_l = []\n",
    "bb_pct_l = []\n",
    "k_bb_pct_l = []\n",
    "avg_l = []\n",
    "whip_l = []\n",
    "babip_l = []\n",
    "lob_pct_l = []\n",
    "fip_l = []\n",
    "xfip_l = []\n",
    "k_9_r = []\n",
    "bb_9_r = []\n",
    "k_bb_r = []\n",
    "hr_9_r = []\n",
    "k_pct_r = []\n",
    "bb_pct_r = []\n",
    "k_bb_pct_r = []\n",
    "avg_r = []\n",
    "whip_r = []\n",
    "babip_r = []\n",
    "lob_pct_r = []\n",
    "fip_r = []\n",
    "xfip_r = []\n",
    "# Engineering features\n",
    "k_9_l_tot = []\n",
    "bb_9_l_tot = []\n",
    "k_bb_l_tot = []\n",
    "hr_9_l_tot = []\n",
    "k_pct_l_tot = []\n",
    "bb_pct_l_tot = []\n",
    "k_bb_pct_l_tot = []\n",
    "avg_l_tot = []\n",
    "whip_l_tot = []\n",
    "babip_l_tot = []\n",
    "lob_pct_l_tot = []\n",
    "fip_l_tot = []\n",
    "xfip_l_tot = []\n",
    "k_9_r_tot = []\n",
    "bb_9_r_tot = []\n",
    "k_bb_r_tot = []\n",
    "hr_9_r_tot = []\n",
    "k_pct_r_tot = []\n",
    "bb_pct_r_tot = []\n",
    "k_bb_pct_r_tot = []\n",
    "avg_r_tot = []\n",
    "whip_r_tot = []\n",
    "babip_r_tot = []\n",
    "lob_pct_r_tot = []\n",
    "fip_r_tot = []\n",
    "xfip_r_tot = []\n",
    "for i, row in pitchers.iterrows():\n",
    "    # Pulling stats of pitcher against lefty hitters\n",
    "    pitcher_df_l = pitch_df.sort_values(by = 'IP', ascending = False).loc[(pitch_df['batter']== 'L')&(pitch_df['Name']==row['Name']),:]\n",
    "    if len(pitcher_df_l) == 0:\n",
    "        for col in pitcher_df_l.columns:\n",
    "            pitcher_df_l[col] = [float('NaN')]\n",
    "    k_9_l.append(pitcher_df_l['K/9'].values[0])\n",
    "    bb_9_l.append(pitcher_df_l['BB/9'].values[0])\n",
    "    k_bb_l.append(pitcher_df_l['K/BB'].values[0])\n",
    "    hr_9_l.append(pitcher_df_l['HR/9'].values[0])\n",
    "    k_pct_l.append(pitcher_df_l['K%'].values[0])\n",
    "    bb_pct_l.append(pitcher_df_l['BB%'].values[0])\n",
    "    k_bb_pct_l.append(pitcher_df_l['K-BB%'].values[0])\n",
    "    avg_l.append(pitcher_df_l['AVG'].values[0])\n",
    "    whip_l.append(pitcher_df_l['WHIP'].values[0])\n",
    "    babip_l.append(pitcher_df_l['BABIP'].values[0])\n",
    "    lob_pct_l.append(pitcher_df_l['LOB%'].values[0])\n",
    "    fip_l.append(pitcher_df_l['FIP'].values[0])\n",
    "    xfip_l.append(pitcher_df_l['xFIP'].values[0])\n",
    "    # Feature Engineering\n",
    "    k_9_l_tot.append(pitcher_df_l['K/9'].values[0] * row['num_L_bats'])\n",
    "    bb_9_l_tot.append(pitcher_df_l['BB/9'].values[0] * row['num_L_bats'])\n",
    "    k_bb_l_tot.append(pitcher_df_l['K/BB'].values[0] * row['num_L_bats'])\n",
    "    hr_9_l_tot.append(pitcher_df_l['HR/9'].values[0] * row['num_L_bats'])\n",
    "    k_pct_l_tot.append(pitcher_df_l['K%'].values[0] * row['num_L_bats'])\n",
    "    bb_pct_l_tot.append(pitcher_df_l['BB%'].values[0] * row['num_L_bats'])\n",
    "    k_bb_pct_l_tot.append(pitcher_df_l['K-BB%'].values[0] * row['num_L_bats'])\n",
    "    avg_l_tot.append(pitcher_df_l['AVG'].values[0] * row['num_L_bats'])\n",
    "    whip_l_tot.append(pitcher_df_l['WHIP'].values[0] * row['num_L_bats'])\n",
    "    babip_l_tot.append(pitcher_df_l['BABIP'].values[0] * row['num_L_bats'])\n",
    "    lob_pct_l_tot.append(pitcher_df_l['LOB%'].values[0] * row['num_L_bats'])\n",
    "    fip_l_tot.append(pitcher_df_l['FIP'].values[0] * row['num_L_bats'])\n",
    "    xfip_l_tot.append(pitcher_df_l['xFIP'].values[0] * row['num_L_bats'])\n",
    "    # Pulling stats against righty hitters\n",
    "    pitcher_df_r = pitch_df.sort_values(by = 'IP', ascending = False).loc[(pitch_df['batter']== 'R')&(pitch_df['Name']== row['Name']),:]\n",
    "    if len(pitcher_df_r) == 0:\n",
    "        for col in pitcher_df_r.columns:\n",
    "            pitcher_df_r[col] = [float('NaN')]\n",
    "    k_9_r.append(pitcher_df_r['K/9'].values[0])\n",
    "    bb_9_r.append(pitcher_df_r['BB/9'].values[0])\n",
    "    k_bb_r.append(pitcher_df_r['K/BB'].values[0])\n",
    "    hr_9_r.append(pitcher_df_r['HR/9'].values[0])\n",
    "    k_pct_r.append(pitcher_df_r['K%'].values[0])\n",
    "    bb_pct_r.append(pitcher_df_r['BB%'].values[0])\n",
    "    k_bb_pct_r.append(pitcher_df_r['K-BB%'].values[0])\n",
    "    avg_r.append(pitcher_df_r['AVG'].values[0])\n",
    "    whip_r.append(pitcher_df_r['WHIP'].values[0])\n",
    "    babip_r.append(pitcher_df_r['BABIP'].values[0])\n",
    "    lob_pct_r.append(pitcher_df_r['LOB%'].values[0])\n",
    "    fip_r.append(pitcher_df_r['FIP'].values[0])\n",
    "    xfip_r.append(pitcher_df_r['xFIP'].values[0])\n",
    "    # Feature Engineering\n",
    "    k_9_r_tot.append(pitcher_df_r['K/9'].values[0] * row['num_R_bats'])\n",
    "    bb_9_r_tot.append(pitcher_df_r['BB/9'].values[0] * row['num_R_bats'])\n",
    "    k_bb_r_tot.append(pitcher_df_r['K/BB'].values[0] * row['num_R_bats'])\n",
    "    hr_9_r_tot.append(pitcher_df_r['HR/9'].values[0] * row['num_R_bats'])\n",
    "    k_pct_r_tot.append(pitcher_df_r['K%'].values[0] * row['num_R_bats'])\n",
    "    bb_pct_r_tot.append(pitcher_df_r['BB%'].values[0] * row['num_R_bats'])\n",
    "    k_bb_pct_r_tot.append(pitcher_df_r['K-BB%'].values[0] * row['num_R_bats'])\n",
    "    avg_r_tot.append(pitcher_df_r['AVG'].values[0] * row['num_R_bats'])\n",
    "    whip_r_tot.append(pitcher_df_r['WHIP'].values[0] * row['num_R_bats'])\n",
    "    babip_r_tot.append(pitcher_df_r['BABIP'].values[0] * row['num_R_bats'])\n",
    "    lob_pct_r_tot.append(pitcher_df_r['LOB%'].values[0] * row['num_R_bats'])\n",
    "    fip_r_tot.append(pitcher_df_r['FIP'].values[0] * row['num_R_bats'])\n",
    "    xfip_r_tot.append(pitcher_df_r['xFIP'].values[0] * row['num_R_bats'])\n",
    "pitchers['k_9_l'] = k_9_l\n",
    "pitchers['bb_9_l'] = bb_9_l\n",
    "pitchers['k_bb_l'] = k_bb_l\n",
    "pitchers['hr_9_l'] = hr_9_l\n",
    "pitchers['k_pct_l'] = k_pct_l\n",
    "pitchers['bb_pct_l'] = bb_pct_l\n",
    "pitchers['k_bb_pct_l'] = k_bb_pct_l\n",
    "pitchers['bat_avg_l'] = avg_l\n",
    "pitchers['whip_l'] = whip_l\n",
    "pitchers['babip_l'] = babip_l\n",
    "pitchers['lob_pct_l'] = lob_pct_l\n",
    "pitchers['fip_l'] = fip_l\n",
    "pitchers['xfip_l'] = xfip_l\n",
    "# Right handed batter stats\n",
    "pitchers['k_9_r'] = k_9_r\n",
    "pitchers['bb_9_r'] = bb_9_r\n",
    "pitchers['k_bb_r'] = k_bb_r\n",
    "pitchers['hr_9_r'] = hr_9_r\n",
    "pitchers['k_pct_r'] = k_pct_r\n",
    "pitchers['bb_pct_r'] = bb_pct_r\n",
    "pitchers['k_bb_pct_r'] = k_bb_pct_r\n",
    "pitchers['bat_avg_r'] = avg_r\n",
    "pitchers['whip_r'] = whip_r\n",
    "pitchers['babip_r'] = babip_r\n",
    "pitchers['lob_pct_r'] = lob_pct_r\n",
    "pitchers['fip_r'] = fip_r\n",
    "pitchers['xfip_r'] = xfip_r\n",
    "# feature engineered left handed batter stats\n",
    "pitchers['k_9_l_tot'] = k_9_l_tot\n",
    "pitchers['bb_9_l_tot'] = bb_9_l_tot\n",
    "pitchers['k_bb_l_tot'] = k_bb_l_tot\n",
    "pitchers['hr_9_l_tot'] = hr_9_l_tot\n",
    "pitchers['k_pct_l_tot'] = k_pct_l_tot\n",
    "pitchers['bb_pct_l_tot'] = bb_pct_l_tot\n",
    "pitchers['k_bb_pct_l_tot'] = k_bb_pct_l_tot\n",
    "pitchers['bat_avg_l_tot'] = avg_l_tot\n",
    "pitchers['whip_l_tot'] = whip_l_tot\n",
    "pitchers['babip_l_tot'] = babip_l_tot\n",
    "pitchers['lob_pct_l_tot'] = lob_pct_l_tot\n",
    "pitchers['fip_l_tot'] = fip_l_tot\n",
    "pitchers['xfip_l_tot'] = xfip_l_tot\n",
    "# feature engineered righ handed batter stats\n",
    "pitchers['k_9_r_tot'] = k_9_r_tot\n",
    "pitchers['bb_9_r_tot'] = bb_9_r_tot\n",
    "pitchers['k_bb_r_tot'] = k_bb_r_tot\n",
    "pitchers['hr_9_r_tot'] = hr_9_r_tot\n",
    "pitchers['k_pct_r_tot'] = k_pct_r_tot\n",
    "pitchers['bb_pct_r_tot'] = bb_pct_r_tot\n",
    "pitchers['k_bb_pct_r_tot'] = k_bb_pct_r_tot\n",
    "pitchers['bat_avg_r_tot'] = avg_r_tot\n",
    "pitchers['whip_r_tot'] = whip_r_tot\n",
    "pitchers['babip_r_tot'] = babip_r_tot\n",
    "pitchers['lob_pct_r_tot'] = lob_pct_r_tot\n",
    "pitchers['fip_r_tot'] = fip_r_tot\n",
    "pitchers['xfip_r_tot'] = xfip_r_tot"
   ]
  },
  {
   "cell_type": "code",
   "execution_count": 45,
   "metadata": {
    "ExecuteTime": {
     "end_time": "2021-07-02T18:07:01.718957Z",
     "start_time": "2021-07-02T18:07:01.712635Z"
    }
   },
   "outputs": [],
   "source": [
    "sals = pd.read_csv('./DKSalaries.csv')"
   ]
  },
  {
   "cell_type": "code",
   "execution_count": 46,
   "metadata": {
    "ExecuteTime": {
     "end_time": "2021-07-02T18:07:01.727296Z",
     "start_time": "2021-07-02T18:07:01.719823Z"
    }
   },
   "outputs": [
    {
     "data": {
      "text/html": [
       "<div>\n",
       "<style scoped>\n",
       "    .dataframe tbody tr th:only-of-type {\n",
       "        vertical-align: middle;\n",
       "    }\n",
       "\n",
       "    .dataframe tbody tr th {\n",
       "        vertical-align: top;\n",
       "    }\n",
       "\n",
       "    .dataframe thead th {\n",
       "        text-align: right;\n",
       "    }\n",
       "</style>\n",
       "<table border=\"1\" class=\"dataframe\">\n",
       "  <thead>\n",
       "    <tr style=\"text-align: right;\">\n",
       "      <th></th>\n",
       "      <th>Position</th>\n",
       "      <th>Name + ID</th>\n",
       "      <th>Name</th>\n",
       "      <th>ID</th>\n",
       "      <th>Roster Position</th>\n",
       "      <th>Salary</th>\n",
       "      <th>Game Info</th>\n",
       "      <th>TeamAbbrev</th>\n",
       "      <th>AvgPointsPerGame</th>\n",
       "    </tr>\n",
       "  </thead>\n",
       "  <tbody>\n",
       "    <tr>\n",
       "      <th>0</th>\n",
       "      <td>SP</td>\n",
       "      <td>Trevor Williams (18269392)</td>\n",
       "      <td>Trevor Williams</td>\n",
       "      <td>18269392</td>\n",
       "      <td>P</td>\n",
       "      <td>12700</td>\n",
       "      <td>CHC@CIN 07/02/2021 07:10PM ET</td>\n",
       "      <td>CHC</td>\n",
       "      <td>11.30</td>\n",
       "    </tr>\n",
       "    <tr>\n",
       "      <th>1</th>\n",
       "      <td>SP</td>\n",
       "      <td>Tyler Glasnow (18269393)</td>\n",
       "      <td>Tyler Glasnow</td>\n",
       "      <td>18269393</td>\n",
       "      <td>P</td>\n",
       "      <td>12600</td>\n",
       "      <td>TB@TOR 07/02/2021 07:07PM ET</td>\n",
       "      <td>TB</td>\n",
       "      <td>25.91</td>\n",
       "    </tr>\n",
       "    <tr>\n",
       "      <th>2</th>\n",
       "      <td>RP</td>\n",
       "      <td>Shane McClanahan (18269394)</td>\n",
       "      <td>Shane McClanahan</td>\n",
       "      <td>18269394</td>\n",
       "      <td>P</td>\n",
       "      <td>12400</td>\n",
       "      <td>TB@TOR 07/02/2021 07:07PM ET</td>\n",
       "      <td>TB</td>\n",
       "      <td>14.87</td>\n",
       "    </tr>\n",
       "    <tr>\n",
       "      <th>3</th>\n",
       "      <td>SP</td>\n",
       "      <td>Kyle Hendricks (18269395)</td>\n",
       "      <td>Kyle Hendricks</td>\n",
       "      <td>18269395</td>\n",
       "      <td>P</td>\n",
       "      <td>12200</td>\n",
       "      <td>CHC@CIN 07/02/2021 07:10PM ET</td>\n",
       "      <td>CHC</td>\n",
       "      <td>15.28</td>\n",
       "    </tr>\n",
       "    <tr>\n",
       "      <th>4</th>\n",
       "      <td>SP</td>\n",
       "      <td>Yonny Chirinos (18269396)</td>\n",
       "      <td>Yonny Chirinos</td>\n",
       "      <td>18269396</td>\n",
       "      <td>P</td>\n",
       "      <td>11900</td>\n",
       "      <td>TB@TOR 07/02/2021 07:07PM ET</td>\n",
       "      <td>TB</td>\n",
       "      <td>0.00</td>\n",
       "    </tr>\n",
       "  </tbody>\n",
       "</table>\n",
       "</div>"
      ],
      "text/plain": [
       "  Position                    Name + ID              Name        ID  \\\n",
       "0       SP   Trevor Williams (18269392)   Trevor Williams  18269392   \n",
       "1       SP     Tyler Glasnow (18269393)     Tyler Glasnow  18269393   \n",
       "2       RP  Shane McClanahan (18269394)  Shane McClanahan  18269394   \n",
       "3       SP    Kyle Hendricks (18269395)    Kyle Hendricks  18269395   \n",
       "4       SP    Yonny Chirinos (18269396)    Yonny Chirinos  18269396   \n",
       "\n",
       "  Roster Position  Salary                      Game Info TeamAbbrev  \\\n",
       "0               P   12700  CHC@CIN 07/02/2021 07:10PM ET        CHC   \n",
       "1               P   12600   TB@TOR 07/02/2021 07:07PM ET         TB   \n",
       "2               P   12400   TB@TOR 07/02/2021 07:07PM ET         TB   \n",
       "3               P   12200  CHC@CIN 07/02/2021 07:10PM ET        CHC   \n",
       "4               P   11900   TB@TOR 07/02/2021 07:07PM ET         TB   \n",
       "\n",
       "   AvgPointsPerGame  \n",
       "0             11.30  \n",
       "1             25.91  \n",
       "2             14.87  \n",
       "3             15.28  \n",
       "4              0.00  "
      ]
     },
     "execution_count": 46,
     "metadata": {},
     "output_type": "execute_result"
    }
   ],
   "source": [
    "sals.head()"
   ]
  },
  {
   "cell_type": "code",
   "execution_count": 47,
   "metadata": {
    "ExecuteTime": {
     "end_time": "2021-07-02T18:07:01.730163Z",
     "start_time": "2021-07-02T18:07:01.728276Z"
    }
   },
   "outputs": [],
   "source": [
    "sals.rename(columns = {'Salary':'DK sal'}, inplace = True)"
   ]
  },
  {
   "cell_type": "code",
   "execution_count": 48,
   "metadata": {
    "ExecuteTime": {
     "end_time": "2021-07-02T18:07:01.739916Z",
     "start_time": "2021-07-02T18:07:01.731009Z"
    }
   },
   "outputs": [],
   "source": [
    "pitchers = pd.merge(pitchers, sals[['Name', 'DK sal']])"
   ]
  },
  {
   "cell_type": "code",
   "execution_count": 49,
   "metadata": {
    "ExecuteTime": {
     "end_time": "2021-07-02T18:07:01.745327Z",
     "start_time": "2021-07-02T18:07:01.740964Z"
    }
   },
   "outputs": [],
   "source": [
    "p_feat = ['Name', 'num_L_bats', 'num_R_bats',\n",
    "       'is_nl', 'k_9_l', 'bb_9_l', 'k_bb_l', 'hr_9_l', 'k_pct_l', 'bb_pct_l',\n",
    "       'k_bb_pct_l', 'bat_avg_l', 'whip_l', 'babip_l', 'lob_pct_l', 'fip_l',\n",
    "       'xfip_l', 'k_9_r', 'bb_9_r', 'k_bb_r', 'hr_9_r', 'k_pct_r', 'bb_pct_r',\n",
    "       'k_bb_pct_r', 'bat_avg_r', 'whip_r', 'babip_r', 'lob_pct_r', 'fip_r',\n",
    "       'xfip_r', 'k_9_l_tot', 'bb_9_l_tot', 'k_bb_l_tot', 'hr_9_l_tot',\n",
    "       'k_pct_l_tot', 'bb_pct_l_tot', 'k_bb_pct_l_tot', 'bat_avg_l_tot',\n",
    "       'whip_l_tot', 'babip_l_tot', 'lob_pct_l_tot', 'fip_l_tot', 'xfip_l_tot',\n",
    "       'k_9_r_tot', 'bb_9_r_tot', 'k_bb_r_tot', 'hr_9_r_tot', 'k_pct_r_tot',\n",
    "       'bb_pct_r_tot', 'k_bb_pct_r_tot', 'bat_avg_r_tot', 'whip_r_tot',\n",
    "       'babip_r_tot', 'lob_pct_r_tot', 'fip_r_tot', 'xfip_r_tot', 'DK sal']\n",
    "final_pitch = pitchers[p_feat]"
   ]
  },
  {
   "cell_type": "code",
   "execution_count": 50,
   "metadata": {
    "ExecuteTime": {
     "end_time": "2021-07-02T18:07:01.752432Z",
     "start_time": "2021-07-02T18:07:01.746330Z"
    }
   },
   "outputs": [],
   "source": [
    "final_pitch.to_csv('./merged_data/for_preds_nn.csv', index = False)"
   ]
  },
  {
   "cell_type": "code",
   "execution_count": null,
   "metadata": {},
   "outputs": [],
   "source": []
  }
 ],
 "metadata": {
  "kernelspec": {
   "display_name": "Python 3",
   "language": "python",
   "name": "python3"
  },
  "language_info": {
   "codemirror_mode": {
    "name": "ipython",
    "version": 3
   },
   "file_extension": ".py",
   "mimetype": "text/x-python",
   "name": "python",
   "nbconvert_exporter": "python",
   "pygments_lexer": "ipython3",
   "version": "3.8.5"
  }
 },
 "nbformat": 4,
 "nbformat_minor": 4
}
