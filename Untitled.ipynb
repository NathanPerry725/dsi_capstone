{
 "cells": [
  {
   "cell_type": "code",
   "execution_count": 19,
   "metadata": {
    "ExecuteTime": {
     "end_time": "2021-06-26T20:28:16.305348Z",
     "start_time": "2021-06-26T20:28:16.299935Z"
    }
   },
   "outputs": [],
   "source": [
    "import pandas as pd\n",
    "import numpy as np\n",
    "import os as os\n",
    "import matplotlib.pyplot as plt\n",
    "\n",
    "from sklearn.ensemble import RandomForestRegressor\n",
    "from sklearn.linear_model import LinearRegression, LassoCV, Lasso\n",
    "from sklearn.preprocessing import StandardScaler, PolynomialFeatures\n",
    "from sklearn.model_selection import train_test_split\n",
    "from sklearn.decomposition import PCA\n",
    "from sklearn.metrics import mean_squared_error"
   ]
  },
  {
   "cell_type": "code",
   "execution_count": 2,
   "metadata": {
    "ExecuteTime": {
     "end_time": "2021-06-26T20:21:34.684209Z",
     "start_time": "2021-06-26T20:21:34.681556Z"
    }
   },
   "outputs": [],
   "source": [
    "hitter_csv = [file for file in os.listdir('./merged_data') if 'hitters' in file]"
   ]
  },
  {
   "cell_type": "code",
   "execution_count": 13,
   "metadata": {
    "ExecuteTime": {
     "end_time": "2021-06-28T00:45:04.756766Z",
     "start_time": "2021-06-28T00:45:04.742202Z"
    }
   },
   "outputs": [],
   "source": [
    "def cap_first(word):\n",
    "    word = word[0].upper() + word[1:]\n",
    "    return word\n",
    "\n",
    "def title_case(title, minor_words=''):\n",
    "    minors = minor_words.split()\n",
    "    title_words = title.split()\n",
    "    title_words = [word.lower() for word in title_words]\n",
    "    title_words = [cap_first(word) if word not in minors else word for word in title_words]\n",
    "    if len(title_words) > 0:\n",
    "        title_words[0] = cap_first(title_words[0])\n",
    "    return ' '.join(title_words)"
   ]
  },
  {
   "cell_type": "code",
   "execution_count": 14,
   "metadata": {
    "ExecuteTime": {
     "end_time": "2021-06-28T00:49:01.418314Z",
     "start_time": "2021-06-28T00:49:01.410225Z"
    }
   },
   "outputs": [
    {
     "data": {
      "text/plain": [
       "'The Wind In The Willows'"
      ]
     },
     "execution_count": 14,
     "metadata": {},
     "output_type": "execute_result"
    }
   ],
   "source": [
    "title_case('THE WIND IN THE WILLOWS', 'The In')"
   ]
  },
  {
   "cell_type": "code",
   "execution_count": 12,
   "metadata": {
    "ExecuteTime": {
     "end_time": "2021-06-28T00:37:29.703282Z",
     "start_time": "2021-06-28T00:37:29.698408Z"
    }
   },
   "outputs": [
    {
     "data": {
      "text/plain": [
       "'Rhro'"
      ]
     },
     "execution_count": 12,
     "metadata": {},
     "output_type": "execute_result"
    }
   ],
   "source": [
    "cap_first('rhro')"
   ]
  },
  {
   "cell_type": "code",
   "execution_count": 3,
   "metadata": {
    "ExecuteTime": {
     "end_time": "2021-06-26T20:21:34.741244Z",
     "start_time": "2021-06-26T20:21:34.685377Z"
    }
   },
   "outputs": [],
   "source": [
    "li = []\n",
    "for csv in hitter_csv:\n",
    "    li.append(pd.read_csv('./merged_data/' + csv))\n",
    "hitters = pd.concat(li, axis = 0, ignore_index = True)"
   ]
  },
  {
   "cell_type": "code",
   "execution_count": 4,
   "metadata": {
    "ExecuteTime": {
     "end_time": "2021-06-26T20:21:35.080586Z",
     "start_time": "2021-06-26T20:21:35.056040Z"
    }
   },
   "outputs": [
    {
     "data": {
      "text/plain": [
       "Unnamed: 0           0\n",
       "team code            0\n",
       " game_date           0\n",
       " game_number         0\n",
       " mlb id              0\n",
       "Name                 0\n",
       " batting order       0\n",
       " confirmed           0\n",
       " position          799\n",
       "opp_pitch_hand       0\n",
       "opp_pitch            0\n",
       "bats                 0\n",
       "k_pct                0\n",
       "bb_pct               0\n",
       "bb_k                 0\n",
       "bat_avg              0\n",
       "obp                  0\n",
       "slg                  0\n",
       "ops                  0\n",
       "iso                  0\n",
       "babip                0\n",
       "wrc                  0\n",
       "wraa                 0\n",
       "woba                 0\n",
       "wrc_plus             0\n",
       "opp_k/9              0\n",
       "opp_bb/9             0\n",
       "opp_k/bb             0\n",
       "opp_hr/9             0\n",
       "opp_k_pct            0\n",
       "opp_bb_pct           0\n",
       "opp_k_bb_pct         0\n",
       "opp_avg              0\n",
       "opp_whip             0\n",
       "opp_babip            0\n",
       "opp_lob_pct          0\n",
       "opp_fip              0\n",
       "opp_xfip             0\n",
       "Date                 0\n",
       "GID                  0\n",
       "MLB_ID               0\n",
       "Starter              0\n",
       "Bat order            0\n",
       "DK posn             45\n",
       "DK pts               0\n",
       "DK sal              45\n",
       "Team                 0\n",
       "Oppt                 0\n",
       "dblhdr            1456\n",
       "Tm Runs              0\n",
       "Opp Runs             0\n",
       "dtype: int64"
      ]
     },
     "execution_count": 4,
     "metadata": {},
     "output_type": "execute_result"
    }
   ],
   "source": [
    "hitters.isna().sum()"
   ]
  },
  {
   "cell_type": "code",
   "execution_count": 5,
   "metadata": {
    "ExecuteTime": {
     "end_time": "2021-06-26T20:21:37.356771Z",
     "start_time": "2021-06-26T20:21:37.324863Z"
    }
   },
   "outputs": [],
   "source": [
    "hitters.dropna(subset = ['DK sal'], inplace = True)"
   ]
  },
  {
   "cell_type": "code",
   "execution_count": 6,
   "metadata": {
    "ExecuteTime": {
     "end_time": "2021-06-26T20:21:46.955461Z",
     "start_time": "2021-06-26T20:21:46.949015Z"
    }
   },
   "outputs": [
    {
     "data": {
      "text/plain": [
       "Index(['Unnamed: 0', 'team code', ' game_date', ' game_number', ' mlb id',\n",
       "       'Name', ' batting order', ' confirmed', ' position', 'opp_pitch_hand',\n",
       "       'opp_pitch', 'bats', 'k_pct', 'bb_pct', 'bb_k', 'bat_avg', 'obp', 'slg',\n",
       "       'ops', 'iso', 'babip', 'wrc', 'wraa', 'woba', 'wrc_plus', 'opp_k/9',\n",
       "       'opp_bb/9', 'opp_k/bb', 'opp_hr/9', 'opp_k_pct', 'opp_bb_pct',\n",
       "       'opp_k_bb_pct', 'opp_avg', 'opp_whip', 'opp_babip', 'opp_lob_pct',\n",
       "       'opp_fip', 'opp_xfip', 'Date', 'GID', 'MLB_ID', 'Starter', 'Bat order',\n",
       "       'DK posn', 'DK pts', 'DK sal', 'Team', 'Oppt', 'dblhdr', 'Tm Runs',\n",
       "       'Opp Runs'],\n",
       "      dtype='object')"
      ]
     },
     "execution_count": 6,
     "metadata": {},
     "output_type": "execute_result"
    }
   ],
   "source": [
    "hitters.columns"
   ]
  },
  {
   "cell_type": "code",
   "execution_count": 8,
   "metadata": {
    "ExecuteTime": {
     "end_time": "2021-06-26T20:22:19.547270Z",
     "start_time": "2021-06-26T20:22:19.535602Z"
    }
   },
   "outputs": [],
   "source": [
    "h_feat = [' batting order', 'k_pct','bb_pct','bb_k','bat_avg','obp',\n",
    "         'slg','ops','iso','babip','wrc','wraa','woba','wrc_plus','opp_k/9','opp_bb/9',\n",
    "         'opp_k/bb','opp_hr/9','opp_k_pct','opp_bb_pct','opp_k_bb_pct','opp_avg',\n",
    "          'opp_whip','opp_babip','opp_lob_pct','opp_fip','opp_xfip','DK sal']\n",
    "X = hitters[h_feat]\n",
    "y = hitters['DK pts']"
   ]
  },
  {
   "cell_type": "code",
   "execution_count": 9,
   "metadata": {
    "ExecuteTime": {
     "end_time": "2021-06-26T20:22:21.960765Z",
     "start_time": "2021-06-26T20:22:21.946444Z"
    }
   },
   "outputs": [
    {
     "name": "stderr",
     "output_type": "stream",
     "text": [
      "/Users/nperry725/opt/anaconda3/lib/python3.8/site-packages/pandas/core/indexing.py:1717: SettingWithCopyWarning: \n",
      "A value is trying to be set on a copy of a slice from a DataFrame.\n",
      "Try using .loc[row_indexer,col_indexer] = value instead\n",
      "\n",
      "See the caveats in the documentation: https://pandas.pydata.org/pandas-docs/stable/user_guide/indexing.html#returning-a-view-versus-a-copy\n",
      "  isetter(loc, v)\n"
     ]
    }
   ],
   "source": [
    "X.loc[:,['k_pct','opp_k/9','opp_k/bb','opp_k_pct','opp_k_bb_pct','opp_lob_pct']] *= -1"
   ]
  },
  {
   "cell_type": "code",
   "execution_count": 10,
   "metadata": {
    "ExecuteTime": {
     "end_time": "2021-06-26T20:22:22.778138Z",
     "start_time": "2021-06-26T20:22:22.767232Z"
    }
   },
   "outputs": [],
   "source": [
    "X_train, X_test, y_train, y_test = train_test_split(X, y, test_size = .2, random_state = 42)"
   ]
  },
  {
   "cell_type": "code",
   "execution_count": 11,
   "metadata": {
    "ExecuteTime": {
     "end_time": "2021-06-26T20:22:23.535990Z",
     "start_time": "2021-06-26T20:22:23.494661Z"
    }
   },
   "outputs": [
    {
     "data": {
      "text/plain": [
       "0.02452434378949142"
      ]
     },
     "execution_count": 11,
     "metadata": {},
     "output_type": "execute_result"
    }
   ],
   "source": [
    "lr = LinearRegression()\n",
    "lr.fit(X_train, y_train)\n",
    "lr.score(X_train, y_train)"
   ]
  },
  {
   "cell_type": "code",
   "execution_count": 12,
   "metadata": {
    "ExecuteTime": {
     "end_time": "2021-06-26T20:22:26.256714Z",
     "start_time": "2021-06-26T20:22:26.247968Z"
    }
   },
   "outputs": [
    {
     "data": {
      "text/plain": [
       "0.036412233070579725"
      ]
     },
     "execution_count": 12,
     "metadata": {},
     "output_type": "execute_result"
    }
   ],
   "source": [
    "lr.score(X_test, y_test)"
   ]
  },
  {
   "cell_type": "code",
   "execution_count": 13,
   "metadata": {
    "ExecuteTime": {
     "end_time": "2021-06-26T20:22:35.759665Z",
     "start_time": "2021-06-26T20:22:35.236248Z"
    }
   },
   "outputs": [
    {
     "data": {
      "text/plain": [
       "0.23673653846528064"
      ]
     },
     "execution_count": 13,
     "metadata": {},
     "output_type": "execute_result"
    }
   ],
   "source": [
    "rf = RandomForestRegressor(max_depth = 5, min_samples_leaf = 1)\n",
    "rf.fit(X_train, y_train)\n",
    "rf.score(X_train, y_train)"
   ]
  },
  {
   "cell_type": "code",
   "execution_count": 14,
   "metadata": {
    "ExecuteTime": {
     "end_time": "2021-06-26T20:22:37.240944Z",
     "start_time": "2021-06-26T20:22:37.213143Z"
    }
   },
   "outputs": [
    {
     "data": {
      "text/plain": [
       "0.04210241267639392"
      ]
     },
     "execution_count": 14,
     "metadata": {},
     "output_type": "execute_result"
    }
   ],
   "source": [
    "rf.score(X_test, y_test)"
   ]
  },
  {
   "cell_type": "code",
   "execution_count": null,
   "metadata": {},
   "outputs": [],
   "source": []
  },
  {
   "cell_type": "code",
   "execution_count": 15,
   "metadata": {
    "ExecuteTime": {
     "end_time": "2021-06-26T20:22:52.585623Z",
     "start_time": "2021-06-26T20:22:52.567189Z"
    }
   },
   "outputs": [],
   "source": [
    "ss = StandardScaler()\n",
    "X_train_sc = ss.fit_transform(X_train)\n",
    "X_test_sc = ss.transform(X_test)"
   ]
  },
  {
   "cell_type": "code",
   "execution_count": 27,
   "metadata": {
    "ExecuteTime": {
     "end_time": "2021-06-25T15:17:57.544834Z",
     "start_time": "2021-06-25T15:17:57.535150Z"
    }
   },
   "outputs": [],
   "source": [
    "pca = PCA(.99).fit(X_train_sc)"
   ]
  },
  {
   "cell_type": "code",
   "execution_count": 28,
   "metadata": {
    "ExecuteTime": {
     "end_time": "2021-06-25T15:17:57.940918Z",
     "start_time": "2021-06-25T15:17:57.937511Z"
    }
   },
   "outputs": [
    {
     "data": {
      "text/plain": [
       "array([0.48207952, 0.2832665 , 0.07268855, 0.05996812, 0.03886036,\n",
       "       0.03078129, 0.02086817, 0.00548419])"
      ]
     },
     "execution_count": 28,
     "metadata": {},
     "output_type": "execute_result"
    }
   ],
   "source": [
    "pca.explained_variance_ratio_"
   ]
  },
  {
   "cell_type": "code",
   "execution_count": 26,
   "metadata": {
    "ExecuteTime": {
     "end_time": "2021-06-25T15:13:08.877183Z",
     "start_time": "2021-06-25T15:13:08.774862Z"
    }
   },
   "outputs": [
    {
     "data": {
      "image/png": "[encoded data removed]",
      "text/plain": [
       "<Figure size 576x432 with 1 Axes>"
      ]
     },
     "metadata": {
      "needs_background": "light"
     },
     "output_type": "display_data"
    }
   ],
   "source": [
    "fig, ax = plt.subplots(figsize=(8,6))\n",
    "ax.plot(range(1,28), pca.explained_variance_ratio_, lw=2)\n",
    "ax.scatter(range(1, 28), pca.explained_variance_ratio_, s=100)\n",
    "ax.set_title('explained variance of components')\n",
    "ax.set_xlabel('principal component')\n",
    "ax.set_ylabel('explained variance');"
   ]
  },
  {
   "cell_type": "code",
   "execution_count": 29,
   "metadata": {
    "ExecuteTime": {
     "end_time": "2021-06-25T15:20:11.747498Z",
     "start_time": "2021-06-25T15:20:11.737733Z"
    }
   },
   "outputs": [],
   "source": [
    "X_train_pca = pca.transform(X_train_sc)\n",
    "X_test_pca = pca.transform(X_test_sc)"
   ]
  },
  {
   "cell_type": "code",
   "execution_count": 30,
   "metadata": {
    "ExecuteTime": {
     "end_time": "2021-06-25T15:20:41.591056Z",
     "start_time": "2021-06-25T15:20:41.559008Z"
    }
   },
   "outputs": [
    {
     "data": {
      "text/plain": [
       "0.014047094314416197"
      ]
     },
     "execution_count": 30,
     "metadata": {},
     "output_type": "execute_result"
    }
   ],
   "source": [
    "lr = LinearRegression()\n",
    "lr.fit(X_train_pca, y_train)\n",
    "lr.score(X_train_pca, y_train)"
   ]
  },
  {
   "cell_type": "code",
   "execution_count": 32,
   "metadata": {
    "ExecuteTime": {
     "end_time": "2021-06-25T15:21:06.739913Z",
     "start_time": "2021-06-25T15:21:06.736415Z"
    }
   },
   "outputs": [
    {
     "data": {
      "text/plain": [
       "0.026918134482578737"
      ]
     },
     "execution_count": 32,
     "metadata": {},
     "output_type": "execute_result"
    }
   ],
   "source": [
    "lr.score(X_test_pca, y_test)"
   ]
  },
  {
   "cell_type": "code",
   "execution_count": 33,
   "metadata": {
    "ExecuteTime": {
     "end_time": "2021-06-25T15:21:27.506038Z",
     "start_time": "2021-06-25T15:21:27.233912Z"
    }
   },
   "outputs": [
    {
     "data": {
      "text/plain": [
       "0.22873052724419918"
      ]
     },
     "execution_count": 33,
     "metadata": {},
     "output_type": "execute_result"
    }
   ],
   "source": [
    "rf = RandomForestRegressor(max_depth = 5, min_samples_leaf = 1)\n",
    "rf.fit(X_train_pca, y_train)\n",
    "rf.score(X_train_pca, y_train)"
   ]
  },
  {
   "cell_type": "code",
   "execution_count": 34,
   "metadata": {
    "ExecuteTime": {
     "end_time": "2021-06-25T15:21:39.547252Z",
     "start_time": "2021-06-25T15:21:39.537512Z"
    }
   },
   "outputs": [
    {
     "data": {
      "text/plain": [
       "0.010149100073750139"
      ]
     },
     "execution_count": 34,
     "metadata": {},
     "output_type": "execute_result"
    }
   ],
   "source": [
    "rf.score(X_test_pca, y_test)"
   ]
  },
  {
   "cell_type": "code",
   "execution_count": 18,
   "metadata": {
    "ExecuteTime": {
     "end_time": "2021-06-25T15:53:50.023969Z",
     "start_time": "2021-06-25T15:53:50.019930Z"
    }
   },
   "outputs": [],
   "source": [
    "pitcher_csv = [file for file in os.listdir('./merged_data') if 'pitchers' in file]"
   ]
  },
  {
   "cell_type": "code",
   "execution_count": 19,
   "metadata": {
    "ExecuteTime": {
     "end_time": "2021-06-25T15:53:54.453406Z",
     "start_time": "2021-06-25T15:53:54.394450Z"
    }
   },
   "outputs": [],
   "source": [
    "li = []\n",
    "for csv in pitcher_csv:\n",
    "    li.append(pd.read_csv('./merged_data/' + csv))\n",
    "pitchers = pd.concat(li, axis = 0, ignore_index = True)"
   ]
  },
  {
   "cell_type": "code",
   "execution_count": null,
   "metadata": {},
   "outputs": [],
   "source": [
    "p_feat = ['k_pct','bb_pct','bb_k','bat_avg','obp',\n",
    "         'slg','ops','iso','babip','wrc','wraa','woba','wrc_plus','opp_k/9','opp_bb/9',\n",
    "         'opp_k/bb','opp_hr/9','opp_k_pct','opp_bb_pct','opp_k_bb_pct','opp_avg',\n",
    "          'opp_whip','opp_babip','opp_lob_pct','opp_fip','opp_xfip']\n",
    "X = pitchers[p_feat]\n",
    "y = pitchers['DK pts']"
   ]
  },
  {
   "cell_type": "code",
   "execution_count": 5,
   "metadata": {
    "ExecuteTime": {
     "end_time": "2021-06-25T15:35:59.133018Z",
     "start_time": "2021-06-25T15:35:59.071350Z"
    }
   },
   "outputs": [],
   "source": [
    "hitters.to_csv('concat_hitters.csv', index = False)"
   ]
  },
  {
   "cell_type": "code",
   "execution_count": 15,
   "metadata": {
    "ExecuteTime": {
     "end_time": "2021-06-25T15:49:59.748231Z",
     "start_time": "2021-06-25T15:49:59.714858Z"
    }
   },
   "outputs": [],
   "source": [
    "b_train = []\n",
    "b_test = []\n",
    "for _ in y_train:\n",
    "    b_train.append(y_train.mean())\n",
    "for _ in y_test:\n",
    "    b_test.append(y_train.mean())"
   ]
  },
  {
   "cell_type": "code",
   "execution_count": 16,
   "metadata": {
    "ExecuteTime": {
     "end_time": "2021-06-25T15:50:19.953127Z",
     "start_time": "2021-06-25T15:50:19.949886Z"
    }
   },
   "outputs": [
    {
     "data": {
      "text/plain": [
       "56.47761131859564"
      ]
     },
     "execution_count": 16,
     "metadata": {},
     "output_type": "execute_result"
    }
   ],
   "source": [
    "mean_squared_error(y_test, b_test)"
   ]
  },
  {
   "cell_type": "code",
   "execution_count": 17,
   "metadata": {
    "ExecuteTime": {
     "end_time": "2021-06-25T15:50:42.483128Z",
     "start_time": "2021-06-25T15:50:42.480292Z"
    }
   },
   "outputs": [
    {
     "data": {
      "text/plain": [
       "51.21653761757457"
      ]
     },
     "execution_count": 17,
     "metadata": {},
     "output_type": "execute_result"
    }
   ],
   "source": [
    "mean_squared_error(y_train, b_train)"
   ]
  },
  {
   "cell_type": "code",
   "execution_count": 20,
   "metadata": {
    "ExecuteTime": {
     "end_time": "2021-06-25T15:54:01.171899Z",
     "start_time": "2021-06-25T15:54:01.169538Z"
    }
   },
   "outputs": [
    {
     "data": {
      "text/plain": [
       "(231, 77)"
      ]
     },
     "execution_count": 20,
     "metadata": {},
     "output_type": "execute_result"
    }
   ],
   "source": [
    "pitchers.shape"
   ]
  },
  {
   "cell_type": "code",
   "execution_count": 21,
   "metadata": {
    "ExecuteTime": {
     "end_time": "2021-06-25T15:54:23.925508Z",
     "start_time": "2021-06-25T15:54:23.904652Z"
    }
   },
   "outputs": [],
   "source": [
    "pitchers.to_csv('concat_pitchers.csv')"
   ]
  },
  {
   "cell_type": "code",
   "execution_count": 37,
   "metadata": {
    "ExecuteTime": {
     "end_time": "2021-06-26T20:51:15.215113Z",
     "start_time": "2021-06-26T20:51:15.189919Z"
    }
   },
   "outputs": [],
   "source": [
    "poly = PolynomialFeatures(2)\n",
    "X_train_p = poly.fit_transform(X_train)\n",
    "X_test_p = poly.transform(X_test)"
   ]
  },
  {
   "cell_type": "code",
   "execution_count": 38,
   "metadata": {
    "ExecuteTime": {
     "end_time": "2021-06-26T20:51:15.741191Z",
     "start_time": "2021-06-26T20:51:15.721036Z"
    }
   },
   "outputs": [],
   "source": [
    "ss = StandardScaler()\n",
    "X_train_sc = ss.fit_transform(X_train_p)\n",
    "X_test_sc = ss.transform(X_test_p)"
   ]
  },
  {
   "cell_type": "code",
   "execution_count": 39,
   "metadata": {
    "ExecuteTime": {
     "end_time": "2021-06-26T20:51:21.509274Z",
     "start_time": "2021-06-26T20:51:16.839413Z"
    }
   },
   "outputs": [
    {
     "name": "stderr",
     "output_type": "stream",
     "text": [
      "/Users/nperry725/opt/anaconda3/lib/python3.8/site-packages/sklearn/linear_model/_coordinate_descent.py:525: ConvergenceWarning: Objective did not converge. You might want to increase the number of iterations. Duality gap: 4813.357052012259, tolerance: 4700.29534368071\n",
      "  model = cd_fast.enet_coordinate_descent_gram(\n",
      "/Users/nperry725/opt/anaconda3/lib/python3.8/site-packages/sklearn/linear_model/_coordinate_descent.py:525: ConvergenceWarning: Objective did not converge. You might want to increase the number of iterations. Duality gap: 5219.8749472188865, tolerance: 4700.29534368071\n",
      "  model = cd_fast.enet_coordinate_descent_gram(\n",
      "/Users/nperry725/opt/anaconda3/lib/python3.8/site-packages/sklearn/linear_model/_coordinate_descent.py:525: ConvergenceWarning: Objective did not converge. You might want to increase the number of iterations. Duality gap: 5174.1295463882525, tolerance: 4594.183592017738\n",
      "  model = cd_fast.enet_coordinate_descent_gram(\n",
      "/Users/nperry725/opt/anaconda3/lib/python3.8/site-packages/sklearn/linear_model/_coordinate_descent.py:525: ConvergenceWarning: Objective did not converge. You might want to increase the number of iterations. Duality gap: 5097.117406459416, tolerance: 4594.183592017738\n",
      "  model = cd_fast.enet_coordinate_descent_gram(\n",
      "/Users/nperry725/opt/anaconda3/lib/python3.8/site-packages/sklearn/linear_model/_coordinate_descent.py:525: ConvergenceWarning: Objective did not converge. You might want to increase the number of iterations. Duality gap: 5175.008582506736, tolerance: 4594.183592017738\n",
      "  model = cd_fast.enet_coordinate_descent_gram(\n",
      "/Users/nperry725/opt/anaconda3/lib/python3.8/site-packages/sklearn/linear_model/_coordinate_descent.py:525: ConvergenceWarning: Objective did not converge. You might want to increase the number of iterations. Duality gap: 5742.297074460301, tolerance: 4594.183592017738\n",
      "  model = cd_fast.enet_coordinate_descent_gram(\n",
      "/Users/nperry725/opt/anaconda3/lib/python3.8/site-packages/sklearn/linear_model/_coordinate_descent.py:525: ConvergenceWarning: Objective did not converge. You might want to increase the number of iterations. Duality gap: 6274.149109364884, tolerance: 4594.183592017738\n",
      "  model = cd_fast.enet_coordinate_descent_gram(\n",
      "/Users/nperry725/opt/anaconda3/lib/python3.8/site-packages/sklearn/linear_model/_coordinate_descent.py:525: ConvergenceWarning: Objective did not converge. You might want to increase the number of iterations. Duality gap: 6586.169959827235, tolerance: 4594.183592017738\n",
      "  model = cd_fast.enet_coordinate_descent_gram(\n",
      "/Users/nperry725/opt/anaconda3/lib/python3.8/site-packages/sklearn/linear_model/_coordinate_descent.py:525: ConvergenceWarning: Objective did not converge. You might want to increase the number of iterations. Duality gap: 6362.513350566729, tolerance: 4594.183592017738\n",
      "  model = cd_fast.enet_coordinate_descent_gram(\n",
      "/Users/nperry725/opt/anaconda3/lib/python3.8/site-packages/sklearn/linear_model/_coordinate_descent.py:525: ConvergenceWarning: Objective did not converge. You might want to increase the number of iterations. Duality gap: 6146.567430186049, tolerance: 4594.183592017738\n",
      "  model = cd_fast.enet_coordinate_descent_gram(\n",
      "/Users/nperry725/opt/anaconda3/lib/python3.8/site-packages/sklearn/linear_model/_coordinate_descent.py:525: ConvergenceWarning: Objective did not converge. You might want to increase the number of iterations. Duality gap: 6018.279339179779, tolerance: 4594.183592017738\n",
      "  model = cd_fast.enet_coordinate_descent_gram(\n",
      "/Users/nperry725/opt/anaconda3/lib/python3.8/site-packages/sklearn/linear_model/_coordinate_descent.py:525: ConvergenceWarning: Objective did not converge. You might want to increase the number of iterations. Duality gap: 6106.656451711751, tolerance: 4594.183592017738\n",
      "  model = cd_fast.enet_coordinate_descent_gram(\n",
      "/Users/nperry725/opt/anaconda3/lib/python3.8/site-packages/sklearn/linear_model/_coordinate_descent.py:525: ConvergenceWarning: Objective did not converge. You might want to increase the number of iterations. Duality gap: 5276.562908307951, tolerance: 4617.122259136215\n",
      "  model = cd_fast.enet_coordinate_descent_gram(\n",
      "/Users/nperry725/opt/anaconda3/lib/python3.8/site-packages/sklearn/linear_model/_coordinate_descent.py:525: ConvergenceWarning: Objective did not converge. You might want to increase the number of iterations. Duality gap: 6268.651308598153, tolerance: 4617.122259136215\n",
      "  model = cd_fast.enet_coordinate_descent_gram(\n",
      "/Users/nperry725/opt/anaconda3/lib/python3.8/site-packages/sklearn/linear_model/_coordinate_descent.py:525: ConvergenceWarning: Objective did not converge. You might want to increase the number of iterations. Duality gap: 5454.9295634132395, tolerance: 4617.122259136215\n",
      "  model = cd_fast.enet_coordinate_descent_gram(\n",
      "/Users/nperry725/opt/anaconda3/lib/python3.8/site-packages/sklearn/linear_model/_coordinate_descent.py:525: ConvergenceWarning: Objective did not converge. You might want to increase the number of iterations. Duality gap: 5995.017363917785, tolerance: 4617.122259136215\n",
      "  model = cd_fast.enet_coordinate_descent_gram(\n",
      "/Users/nperry725/opt/anaconda3/lib/python3.8/site-packages/sklearn/linear_model/_coordinate_descent.py:525: ConvergenceWarning: Objective did not converge. You might want to increase the number of iterations. Duality gap: 5207.054209816892, tolerance: 4491.605315614618\n",
      "  model = cd_fast.enet_coordinate_descent_gram(\n",
      "/Users/nperry725/opt/anaconda3/lib/python3.8/site-packages/sklearn/linear_model/_coordinate_descent.py:525: ConvergenceWarning: Objective did not converge. You might want to increase the number of iterations. Duality gap: 5989.708492466285, tolerance: 4491.605315614618\n",
      "  model = cd_fast.enet_coordinate_descent_gram(\n",
      "/Users/nperry725/opt/anaconda3/lib/python3.8/site-packages/sklearn/linear_model/_coordinate_descent.py:525: ConvergenceWarning: Objective did not converge. You might want to increase the number of iterations. Duality gap: 6592.461674448034, tolerance: 4491.605315614618\n",
      "  model = cd_fast.enet_coordinate_descent_gram(\n",
      "/Users/nperry725/opt/anaconda3/lib/python3.8/site-packages/sklearn/linear_model/_coordinate_descent.py:525: ConvergenceWarning: Objective did not converge. You might want to increase the number of iterations. Duality gap: 6981.6922549054, tolerance: 4491.605315614618\n",
      "  model = cd_fast.enet_coordinate_descent_gram(\n"
     ]
    }
   ],
   "source": [
    "las_cv = LassoCV(cv = 5, tol = .1, max_iter = 2000).fit(X_train_sc, y_train)"
   ]
  },
  {
   "cell_type": "code",
   "execution_count": 40,
   "metadata": {
    "ExecuteTime": {
     "end_time": "2021-06-26T20:51:26.273526Z",
     "start_time": "2021-06-26T20:51:26.267982Z"
    }
   },
   "outputs": [
    {
     "data": {
      "text/plain": [
       "array([[ 1.00000000e+00,  7.00000000e+00, -2.78195490e-01, ...,\n",
       "         1.18387391e+02,  4.78746268e+04,  1.93600000e+07],\n",
       "       [ 1.00000000e+00,  6.00000000e+00, -2.50000000e-01, ...,\n",
       "         1.29081095e+02,  4.09009901e+04,  1.29600000e+07],\n",
       "       [ 1.00000000e+00,  1.00000000e+00, -2.14843750e-01, ...,\n",
       "         8.98877688e+01,  3.98198473e+04,  1.76400000e+07],\n",
       "       ...,\n",
       "       [ 1.00000000e+00,  8.00000000e+00, -4.08163300e-02, ...,\n",
       "         1.21000000e+02,  2.97000000e+04,  7.29000000e+06],\n",
       "       [ 1.00000000e+00,  2.00000000e+00, -2.10526320e-01, ...,\n",
       "         1.15047664e+02,  3.53958904e+04,  1.08900000e+07],\n",
       "       [ 1.00000000e+00,  5.00000000e+00, -2.74666670e-01, ...,\n",
       "         8.88501452e+01,  4.14745562e+04,  1.93600000e+07]])"
      ]
     },
     "execution_count": 40,
     "metadata": {},
     "output_type": "execute_result"
    }
   ],
   "source": [
    "X_train_p"
   ]
  },
  {
   "cell_type": "code",
   "execution_count": 41,
   "metadata": {
    "ExecuteTime": {
     "end_time": "2021-06-26T20:51:27.958985Z",
     "start_time": "2021-06-26T20:51:27.942047Z"
    }
   },
   "outputs": [],
   "source": [
    "poly_columns = poly.get_feature_names(X_train.columns)"
   ]
  },
  {
   "cell_type": "code",
   "execution_count": 42,
   "metadata": {
    "ExecuteTime": {
     "end_time": "2021-06-26T20:51:28.798491Z",
     "start_time": "2021-06-26T20:51:28.791562Z"
    }
   },
   "outputs": [
    {
     "data": {
      "text/plain": [
       "435"
      ]
     },
     "execution_count": 42,
     "metadata": {},
     "output_type": "execute_result"
    }
   ],
   "source": [
    "len(poly_columns)"
   ]
  },
  {
   "cell_type": "code",
   "execution_count": 43,
   "metadata": {
    "ExecuteTime": {
     "end_time": "2021-06-26T20:51:33.614814Z",
     "start_time": "2021-06-26T20:51:33.577645Z"
    }
   },
   "outputs": [],
   "source": [
    "las = Lasso(alpha = las_cv.alpha_)\n",
    "las.fit(X_train_sc, y_train)\n",
    "final_columns = [col for col, coef in zip(poly_columns, las.coef_) if coef]"
   ]
  },
  {
   "cell_type": "code",
   "execution_count": 44,
   "metadata": {
    "ExecuteTime": {
     "end_time": "2021-06-26T20:51:33.907757Z",
     "start_time": "2021-06-26T20:51:33.904534Z"
    }
   },
   "outputs": [
    {
     "data": {
      "text/plain": [
       "[' batting order',\n",
       " ' batting order bb_pct',\n",
       " ' batting order obp',\n",
       " 'k_pct iso',\n",
       " 'k_pct DK sal',\n",
       " 'iso DK sal']"
      ]
     },
     "execution_count": 44,
     "metadata": {},
     "output_type": "execute_result"
    }
   ],
   "source": [
    "final_columns"
   ]
  },
  {
   "cell_type": "code",
   "execution_count": 45,
   "metadata": {
    "ExecuteTime": {
     "end_time": "2021-06-26T20:51:37.537541Z",
     "start_time": "2021-06-26T20:51:37.533551Z"
    }
   },
   "outputs": [],
   "source": [
    "poly_df = pd.DataFrame(X_train_sc, columns = poly_columns)"
   ]
  },
  {
   "cell_type": "code",
   "execution_count": 46,
   "metadata": {
    "ExecuteTime": {
     "end_time": "2021-06-26T20:51:38.498619Z",
     "start_time": "2021-06-26T20:51:38.492568Z"
    }
   },
   "outputs": [],
   "source": [
    "X_final = poly_df[final_columns]"
   ]
  },
  {
   "cell_type": "code",
   "execution_count": 47,
   "metadata": {
    "ExecuteTime": {
     "end_time": "2021-06-26T20:51:39.157707Z",
     "start_time": "2021-06-26T20:51:39.132949Z"
    }
   },
   "outputs": [
    {
     "data": {
      "text/html": [
       "<div>\n",
       "<style scoped>\n",
       "    .dataframe tbody tr th:only-of-type {\n",
       "        vertical-align: middle;\n",
       "    }\n",
       "\n",
       "    .dataframe tbody tr th {\n",
       "        vertical-align: top;\n",
       "    }\n",
       "\n",
       "    .dataframe thead th {\n",
       "        text-align: right;\n",
       "    }\n",
       "</style>\n",
       "<table border=\"1\" class=\"dataframe\">\n",
       "  <thead>\n",
       "    <tr style=\"text-align: right;\">\n",
       "      <th></th>\n",
       "      <th>batting order</th>\n",
       "      <th>batting order bb_pct</th>\n",
       "      <th>batting order obp</th>\n",
       "      <th>k_pct iso</th>\n",
       "      <th>k_pct DK sal</th>\n",
       "      <th>iso DK sal</th>\n",
       "    </tr>\n",
       "  </thead>\n",
       "  <tbody>\n",
       "    <tr>\n",
       "      <th>0</th>\n",
       "      <td>1.091034</td>\n",
       "      <td>2.664169</td>\n",
       "      <td>1.653709</td>\n",
       "      <td>-0.728801</td>\n",
       "      <td>-1.080714</td>\n",
       "      <td>0.436248</td>\n",
       "    </tr>\n",
       "    <tr>\n",
       "      <th>1</th>\n",
       "      <td>0.666952</td>\n",
       "      <td>2.100982</td>\n",
       "      <td>1.598252</td>\n",
       "      <td>-2.917316</td>\n",
       "      <td>-0.092406</td>\n",
       "      <td>1.995546</td>\n",
       "    </tr>\n",
       "    <tr>\n",
       "      <th>2</th>\n",
       "      <td>-1.453459</td>\n",
       "      <td>-1.173934</td>\n",
       "      <td>-1.444188</td>\n",
       "      <td>0.212546</td>\n",
       "      <td>-0.099554</td>\n",
       "      <td>-0.058508</td>\n",
       "    </tr>\n",
       "    <tr>\n",
       "      <th>3</th>\n",
       "      <td>-0.181212</td>\n",
       "      <td>-0.244251</td>\n",
       "      <td>0.189385</td>\n",
       "      <td>-1.296587</td>\n",
       "      <td>0.247760</td>\n",
       "      <td>1.900506</td>\n",
       "    </tr>\n",
       "    <tr>\n",
       "      <th>4</th>\n",
       "      <td>-1.453459</td>\n",
       "      <td>-0.670085</td>\n",
       "      <td>-1.353862</td>\n",
       "      <td>-0.493202</td>\n",
       "      <td>1.025841</td>\n",
       "      <td>0.667495</td>\n",
       "    </tr>\n",
       "    <tr>\n",
       "      <th>...</th>\n",
       "      <td>...</td>\n",
       "      <td>...</td>\n",
       "      <td>...</td>\n",
       "      <td>...</td>\n",
       "      <td>...</td>\n",
       "      <td>...</td>\n",
       "    </tr>\n",
       "    <tr>\n",
       "      <th>1123</th>\n",
       "      <td>0.666952</td>\n",
       "      <td>1.591433</td>\n",
       "      <td>0.482601</td>\n",
       "      <td>0.739995</td>\n",
       "      <td>1.196812</td>\n",
       "      <td>-1.263440</td>\n",
       "    </tr>\n",
       "    <tr>\n",
       "      <th>1124</th>\n",
       "      <td>-0.181212</td>\n",
       "      <td>-0.308368</td>\n",
       "      <td>-0.079816</td>\n",
       "      <td>1.048913</td>\n",
       "      <td>0.904672</td>\n",
       "      <td>-0.783003</td>\n",
       "    </tr>\n",
       "    <tr>\n",
       "      <th>1125</th>\n",
       "      <td>1.515117</td>\n",
       "      <td>-0.855790</td>\n",
       "      <td>2.072594</td>\n",
       "      <td>1.513723</td>\n",
       "      <td>2.316286</td>\n",
       "      <td>-0.655644</td>\n",
       "    </tr>\n",
       "    <tr>\n",
       "      <th>1126</th>\n",
       "      <td>-1.029377</td>\n",
       "      <td>-0.548078</td>\n",
       "      <td>-0.929905</td>\n",
       "      <td>0.401281</td>\n",
       "      <td>0.533598</td>\n",
       "      <td>-0.574319</td>\n",
       "    </tr>\n",
       "    <tr>\n",
       "      <th>1127</th>\n",
       "      <td>0.242870</td>\n",
       "      <td>-0.021008</td>\n",
       "      <td>0.344056</td>\n",
       "      <td>-0.762259</td>\n",
       "      <td>-1.033361</td>\n",
       "      <td>0.495287</td>\n",
       "    </tr>\n",
       "  </tbody>\n",
       "</table>\n",
       "<p>1128 rows × 6 columns</p>\n",
       "</div>"
      ],
      "text/plain": [
       "       batting order   batting order bb_pct   batting order obp  k_pct iso  \\\n",
       "0           1.091034               2.664169            1.653709  -0.728801   \n",
       "1           0.666952               2.100982            1.598252  -2.917316   \n",
       "2          -1.453459              -1.173934           -1.444188   0.212546   \n",
       "3          -0.181212              -0.244251            0.189385  -1.296587   \n",
       "4          -1.453459              -0.670085           -1.353862  -0.493202   \n",
       "...              ...                    ...                 ...        ...   \n",
       "1123        0.666952               1.591433            0.482601   0.739995   \n",
       "1124       -0.181212              -0.308368           -0.079816   1.048913   \n",
       "1125        1.515117              -0.855790            2.072594   1.513723   \n",
       "1126       -1.029377              -0.548078           -0.929905   0.401281   \n",
       "1127        0.242870              -0.021008            0.344056  -0.762259   \n",
       "\n",
       "      k_pct DK sal  iso DK sal  \n",
       "0        -1.080714    0.436248  \n",
       "1        -0.092406    1.995546  \n",
       "2        -0.099554   -0.058508  \n",
       "3         0.247760    1.900506  \n",
       "4         1.025841    0.667495  \n",
       "...            ...         ...  \n",
       "1123      1.196812   -1.263440  \n",
       "1124      0.904672   -0.783003  \n",
       "1125      2.316286   -0.655644  \n",
       "1126      0.533598   -0.574319  \n",
       "1127     -1.033361    0.495287  \n",
       "\n",
       "[1128 rows x 6 columns]"
      ]
     },
     "execution_count": 47,
     "metadata": {},
     "output_type": "execute_result"
    }
   ],
   "source": [
    "X_final"
   ]
  },
  {
   "cell_type": "code",
   "execution_count": 48,
   "metadata": {
    "ExecuteTime": {
     "end_time": "2021-06-26T20:51:41.406407Z",
     "start_time": "2021-06-26T20:51:41.388782Z"
    }
   },
   "outputs": [
    {
     "data": {
      "text/plain": [
       "0.022186863193826345"
      ]
     },
     "execution_count": 48,
     "metadata": {},
     "output_type": "execute_result"
    }
   ],
   "source": [
    "lr = LinearRegression()\n",
    "lr.fit(X_final, y_train)\n",
    "lr.score(X_final, y_train)"
   ]
  },
  {
   "cell_type": "code",
   "execution_count": null,
   "metadata": {},
   "outputs": [],
   "source": [
    "lr.score()"
   ]
  }
 ],
 "metadata": {
  "kernelspec": {
   "display_name": "Python 3",
   "language": "python",
   "name": "python3"
  },
  "language_info": {
   "codemirror_mode": {
    "name": "ipython",
    "version": 3
   },
   "file_extension": ".py",
   "mimetype": "text/x-python",
   "name": "python",
   "nbconvert_exporter": "python",
   "pygments_lexer": "ipython3",
   "version": "3.8.5"
  }
 },
 "nbformat": 4,
 "nbformat_minor": 4
}
