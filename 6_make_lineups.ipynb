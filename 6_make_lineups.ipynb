{
 "cells": [
  {
   "cell_type": "markdown",
   "metadata": {},
   "source": [
    "## Executive Summary\n",
    "\n",
    "My goal with this project was to use modeling to attempt to get an edge in DraftKings daily fantasy baseball. Initially I had hoped to use player stats along with the stats of the opposing pitcher or batting lineup, to make regression models to predict the number of points batters and pitchers would score each game. Points are the scoring method used by draftkings which assign point values to different events in each game. The scoring system is described here: https://www.draftkings.com/help/rules/mlb?wpsrc=Organic%20Search&wpaffn=Google&wpkw=https%3A%2F%2Fwww.draftkings.com%2Fhelp%2Frules%2Fmlb&wpcn=help&wpscn=rules%2Fmlb.\n",
    "\n",
    "I had expected to have difficulty in predicting batters due to the high variance that a batter can have game to game. It is not out of the ordinary for the best batter in the league to have zero hits in a game scoring 0 fantasy points. This concern was confirmed by my EDA where I saw very little correlation of DraftKings points with any features I had collected. I attempted to make a few models but none of them effectively predicted the test dataset. At this point I pivoted to using a time series model to predict batters. I did this because I wanted a model to predict close to a players mean score if there were no trends it could find in the data. I was interested in finding time based trends after reading this article on 538: https://fivethirtyeight.com/features/baseballs-hot-hand-is-real/\n",
    " \n",
    "Normally hot hand are seen as a logical fallacy, but this article finds that pitchers have been shown to have hot and cold streaks. They also provide evidence that hot hands can exist among other players. I hope to create a model that predicts close to each player's mean while giving some weight to if they are on a hot or cold streak. Time series does not work well with pitchers in my model currently because starting pitchers play very few games in a season so the sample size is too small. The metric I am using to guage my time series is aic. It is not a very interpretable metric, but I am selecting the arima model with the lowest aic.\n",
    "\n",
    "I was attempting to write a regression model to predict pitcher performance. Pitchers tend to be more consistent so I hoped it would work. My EDA showed some more correlation among pitching stats. I wrote a Linear Regression, Random Forest and Neural Network model to predict. Initially I was getting strong scores but I discovered that it was because of the specific random state I used to split, and upon using other random states my model was overfit. I am still going to try to optimize this model but for the time being I am just using the mean score for each pitcher. My current neural network is at: https://colab.research.google.com/drive/1D06qTKDn7v8ko2yxvzFpABbMx7TWUKrS#scrollTo=G1j2-ellRKY4\n",
    "\n",
    "The next step I had was taking my predictions and creating my top lineups for submission. I used a genetic algorithm in order to do this. This involves creating random lineups and then resampling from the top lineups to keep making more, This allowed for me to make my top 150 lineups in a reasonable amount of time.\n",
    "\n",
    "One of my limitations was the small amount of data I had. I only had stats from this season which definitely hurt my findings for pitcher data. There is also the natural difficulty of predicting baseball. Games are such a small sample size that they are very difficult to predict. "
   ]
  },
  {
   "cell_type": "code",
   "execution_count": 1,
   "metadata": {
    "ExecuteTime": {
     "end_time": "2021-07-07T12:44:49.582226Z",
     "start_time": "2021-07-07T12:44:48.045461Z"
    }
   },
   "outputs": [],
   "source": [
    "import pandas as pd\n",
    "import numpy as np\n",
    "import os as os\n",
    "import matplotlib.pyplot as plt\n",
    "    \n",
    "from sklearn.model_selection import train_test_split\n",
    "from statsmodels.tsa.arima.model import ARIMA"
   ]
  },
  {
   "cell_type": "code",
   "execution_count": 2,
   "metadata": {
    "ExecuteTime": {
     "end_time": "2021-07-07T12:44:49.584981Z",
     "start_time": "2021-07-07T12:44:49.583515Z"
    }
   },
   "outputs": [],
   "source": [
    "import warnings\n",
    "warnings.filterwarnings('ignore')"
   ]
  },
  {
   "cell_type": "code",
   "execution_count": 3,
   "metadata": {
    "ExecuteTime": {
     "end_time": "2021-07-07T12:44:49.588267Z",
     "start_time": "2021-07-07T12:44:49.586179Z"
    }
   },
   "outputs": [],
   "source": [
    "targets = [file for file in os.listdir('./Datasets/') if 'target' in file]"
   ]
  },
  {
   "cell_type": "code",
   "execution_count": 4,
   "metadata": {
    "ExecuteTime": {
     "end_time": "2021-07-07T12:44:49.837679Z",
     "start_time": "2021-07-07T12:44:49.589351Z"
    }
   },
   "outputs": [],
   "source": [
    "li = []\n",
    "for file in targets:\n",
    "    li.append(pd.read_csv('./Datasets/' + file, delimiter = ';'))\n",
    "df = pd.concat(li, axis = 0, ignore_index =True)"
   ]
  },
  {
   "cell_type": "code",
   "execution_count": 5,
   "metadata": {
    "ExecuteTime": {
     "end_time": "2021-07-07T12:44:49.840618Z",
     "start_time": "2021-07-07T12:44:49.838627Z"
    }
   },
   "outputs": [],
   "source": [
    "def format_date(date):\n",
    "    date = str(date)\n",
    "    year = date[0:4]\n",
    "    month = date[4:6]\n",
    "    day = date[6:8]\n",
    "    return '-'.join([year, month, day])"
   ]
  },
  {
   "cell_type": "code",
   "execution_count": 6,
   "metadata": {
    "ExecuteTime": {
     "end_time": "2021-07-07T12:44:49.843846Z",
     "start_time": "2021-07-07T12:44:49.841571Z"
    }
   },
   "outputs": [],
   "source": [
    "def clean_names(name):\n",
    "    name = name.replace(',','')\n",
    "    #name = name.replace('.','')\n",
    "    name = name.replace('-hitter','')\n",
    "    name = name.replace('-pitcher','')\n",
    "    names = name.split()\n",
    "    first = names.pop(-1)\n",
    "    names.insert(0, first)\n",
    "    name = ' '.join(names)\n",
    "    name = name.replace('James Happ', 'JA Happ')\n",
    "    return name"
   ]
  },
  {
   "cell_type": "code",
   "execution_count": 7,
   "metadata": {
    "ExecuteTime": {
     "end_time": "2021-07-07T12:44:49.873449Z",
     "start_time": "2021-07-07T12:44:49.844631Z"
    }
   },
   "outputs": [],
   "source": [
    "# Putting all names into the same format\n",
    "df['Name'] = [clean_names(player) for player in df['Name']]"
   ]
  },
  {
   "cell_type": "code",
   "execution_count": 8,
   "metadata": {
    "ExecuteTime": {
     "end_time": "2021-07-07T12:44:49.908291Z",
     "start_time": "2021-07-07T12:44:49.875435Z"
    }
   },
   "outputs": [],
   "source": [
    "# Formatting date for time series modeling\n",
    "df['Date'] = pd.to_datetime([format_date(date) for date in df['Date']])"
   ]
  },
  {
   "cell_type": "code",
   "execution_count": 9,
   "metadata": {
    "ExecuteTime": {
     "end_time": "2021-07-07T12:44:51.204856Z",
     "start_time": "2021-07-07T12:44:49.909759Z"
    }
   },
   "outputs": [],
   "source": [
    "# Shohei Ohtani is both a pitcher and batter so stats need to be separated\n",
    "new_names = []\n",
    "for i, row in df.iterrows():\n",
    "    if row['Name'] == 'Shohei Ohtani':\n",
    "        if row['DK posn'] == 1.0:\n",
    "            new_names.append('Shohei (P) Ohtani')\n",
    "        else:\n",
    "            new_names.append('Shohei (H) Ohtani')\n",
    "    else:\n",
    "        new_names.append(row['Name'])\n",
    "df['Name'] = new_names"
   ]
  },
  {
   "cell_type": "markdown",
   "metadata": {},
   "source": [
    "Shohei Ohtani was difficult to model throughout the project as he is both a pitcher and batter. I needed to make sure I wasn't accidentally using his batting prediction to predict his pitching."
   ]
  },
  {
   "cell_type": "code",
   "execution_count": 10,
   "metadata": {
    "ExecuteTime": {
     "end_time": "2021-07-07T12:44:51.223728Z",
     "start_time": "2021-07-07T12:44:51.205821Z"
    }
   },
   "outputs": [],
   "source": [
    "df = df[df['DK posn'] != 1.0]"
   ]
  },
  {
   "cell_type": "code",
   "execution_count": 11,
   "metadata": {
    "ExecuteTime": {
     "end_time": "2021-07-07T12:44:53.051655Z",
     "start_time": "2021-07-07T12:44:51.224639Z"
    }
   },
   "outputs": [],
   "source": [
    "dfs = {}\n",
    "removed = []\n",
    "for player in set(df['Name']):\n",
    "    dfs[player] = df[df['Name']== player].set_index('Date').sort_index()['DK pts']\n",
    "    if len(dfs[player]) < 10:\n",
    "        removed.append((player, dfs.pop(player)))"
   ]
  },
  {
   "cell_type": "code",
   "execution_count": 12,
   "metadata": {
    "ExecuteTime": {
     "end_time": "2021-07-07T12:45:02.228742Z",
     "start_time": "2021-07-07T12:44:53.052602Z"
    }
   },
   "outputs": [],
   "source": [
    "preds = []\n",
    "aic = []\n",
    "for player in dfs.keys():\n",
    "    # Exponential smoothing\n",
    "    arima = ARIMA(endog = dfs[player], order = (0,1,1))\n",
    "    model = arima.fit()\n",
    "    preds.append([player, model.forecast(1).values[0]])\n",
    "    aic.append(model.aic)"
   ]
  },
  {
   "cell_type": "markdown",
   "metadata": {},
   "source": [
    "In the for loop I fit an ARIMA model for each player and save the forecast of thier next game."
   ]
  },
  {
   "cell_type": "code",
   "execution_count": 13,
   "metadata": {
    "ExecuteTime": {
     "end_time": "2021-07-07T12:45:02.231930Z",
     "start_time": "2021-07-07T12:45:02.229803Z"
    }
   },
   "outputs": [
    {
     "name": "stdout",
     "output_type": "stream",
     "text": [
      "315.52688106826\n"
     ]
    }
   ],
   "source": [
    "print(np.mean(aic))"
   ]
  },
  {
   "cell_type": "markdown",
   "metadata": {},
   "source": [
    "This is a solid mean aic score but I plan to gridsearch to determine the ARIMA order that works best."
   ]
  },
  {
   "cell_type": "code",
   "execution_count": 14,
   "metadata": {
    "ExecuteTime": {
     "end_time": "2021-07-07T12:45:02.239430Z",
     "start_time": "2021-07-07T12:45:02.233094Z"
    }
   },
   "outputs": [],
   "source": [
    "sals = pd.read_csv('./DKSalaries.csv')"
   ]
  },
  {
   "cell_type": "code",
   "execution_count": 15,
   "metadata": {
    "ExecuteTime": {
     "end_time": "2021-07-07T12:45:02.250166Z",
     "start_time": "2021-07-07T12:45:02.240692Z"
    }
   },
   "outputs": [
    {
     "data": {
      "text/html": [
       "<div>\n",
       "<style scoped>\n",
       "    .dataframe tbody tr th:only-of-type {\n",
       "        vertical-align: middle;\n",
       "    }\n",
       "\n",
       "    .dataframe tbody tr th {\n",
       "        vertical-align: top;\n",
       "    }\n",
       "\n",
       "    .dataframe thead th {\n",
       "        text-align: right;\n",
       "    }\n",
       "</style>\n",
       "<table border=\"1\" class=\"dataframe\">\n",
       "  <thead>\n",
       "    <tr style=\"text-align: right;\">\n",
       "      <th></th>\n",
       "      <th>Position</th>\n",
       "      <th>Name + ID</th>\n",
       "      <th>Name</th>\n",
       "      <th>ID</th>\n",
       "      <th>Roster Position</th>\n",
       "      <th>Salary</th>\n",
       "      <th>Game Info</th>\n",
       "      <th>TeamAbbrev</th>\n",
       "      <th>AvgPointsPerGame</th>\n",
       "    </tr>\n",
       "  </thead>\n",
       "  <tbody>\n",
       "    <tr>\n",
       "      <th>0</th>\n",
       "      <td>SP</td>\n",
       "      <td>Jacob deGrom (18305745)</td>\n",
       "      <td>Jacob deGrom</td>\n",
       "      <td>18305745</td>\n",
       "      <td>P</td>\n",
       "      <td>11500</td>\n",
       "      <td>MIL@NYM 07/06/2021 07:10PM ET</td>\n",
       "      <td>NYM</td>\n",
       "      <td>32.15</td>\n",
       "    </tr>\n",
       "    <tr>\n",
       "      <th>1</th>\n",
       "      <td>SP</td>\n",
       "      <td>Shane Bieber (18306803)</td>\n",
       "      <td>Shane Bieber</td>\n",
       "      <td>18306803</td>\n",
       "      <td>P</td>\n",
       "      <td>11200</td>\n",
       "      <td>Postponed</td>\n",
       "      <td>CLE</td>\n",
       "      <td>25.41</td>\n",
       "    </tr>\n",
       "    <tr>\n",
       "      <th>2</th>\n",
       "      <td>SP</td>\n",
       "      <td>Max Scherzer (18306804)</td>\n",
       "      <td>Max Scherzer</td>\n",
       "      <td>18306804</td>\n",
       "      <td>P</td>\n",
       "      <td>11000</td>\n",
       "      <td>WAS@SD 07/06/2021 10:10PM ET</td>\n",
       "      <td>WAS</td>\n",
       "      <td>25.11</td>\n",
       "    </tr>\n",
       "    <tr>\n",
       "      <th>3</th>\n",
       "      <td>SP</td>\n",
       "      <td>Brandon Woodruff (18306805)</td>\n",
       "      <td>Brandon Woodruff</td>\n",
       "      <td>18306805</td>\n",
       "      <td>P</td>\n",
       "      <td>10700</td>\n",
       "      <td>MIL@NYM 07/06/2021 07:10PM ET</td>\n",
       "      <td>MIL</td>\n",
       "      <td>24.51</td>\n",
       "    </tr>\n",
       "    <tr>\n",
       "      <th>4</th>\n",
       "      <td>SP</td>\n",
       "      <td>Freddy Peralta (18306806)</td>\n",
       "      <td>Freddy Peralta</td>\n",
       "      <td>18306806</td>\n",
       "      <td>P</td>\n",
       "      <td>10500</td>\n",
       "      <td>MIL@NYM 07/06/2021 07:10PM ET</td>\n",
       "      <td>MIL</td>\n",
       "      <td>22.20</td>\n",
       "    </tr>\n",
       "  </tbody>\n",
       "</table>\n",
       "</div>"
      ],
      "text/plain": [
       "  Position                    Name + ID              Name        ID  \\\n",
       "0       SP      Jacob deGrom (18305745)      Jacob deGrom  18305745   \n",
       "1       SP      Shane Bieber (18306803)      Shane Bieber  18306803   \n",
       "2       SP      Max Scherzer (18306804)      Max Scherzer  18306804   \n",
       "3       SP  Brandon Woodruff (18306805)  Brandon Woodruff  18306805   \n",
       "4       SP    Freddy Peralta (18306806)    Freddy Peralta  18306806   \n",
       "\n",
       "  Roster Position  Salary                      Game Info TeamAbbrev  \\\n",
       "0               P   11500  MIL@NYM 07/06/2021 07:10PM ET        NYM   \n",
       "1               P   11200                      Postponed        CLE   \n",
       "2               P   11000   WAS@SD 07/06/2021 10:10PM ET        WAS   \n",
       "3               P   10700  MIL@NYM 07/06/2021 07:10PM ET        MIL   \n",
       "4               P   10500  MIL@NYM 07/06/2021 07:10PM ET        MIL   \n",
       "\n",
       "   AvgPointsPerGame  \n",
       "0             32.15  \n",
       "1             25.41  \n",
       "2             25.11  \n",
       "3             24.51  \n",
       "4             22.20  "
      ]
     },
     "execution_count": 15,
     "metadata": {},
     "output_type": "execute_result"
    }
   ],
   "source": [
    "sals.head()"
   ]
  },
  {
   "cell_type": "code",
   "execution_count": 16,
   "metadata": {
    "ExecuteTime": {
     "end_time": "2021-07-07T12:45:02.256977Z",
     "start_time": "2021-07-07T12:45:02.251325Z"
    }
   },
   "outputs": [
    {
     "data": {
      "text/html": [
       "<div>\n",
       "<style scoped>\n",
       "    .dataframe tbody tr th:only-of-type {\n",
       "        vertical-align: middle;\n",
       "    }\n",
       "\n",
       "    .dataframe tbody tr th {\n",
       "        vertical-align: top;\n",
       "    }\n",
       "\n",
       "    .dataframe thead th {\n",
       "        text-align: right;\n",
       "    }\n",
       "</style>\n",
       "<table border=\"1\" class=\"dataframe\">\n",
       "  <thead>\n",
       "    <tr style=\"text-align: right;\">\n",
       "      <th></th>\n",
       "      <th>Unnamed: 0</th>\n",
       "      <th>preds</th>\n",
       "      <th>Name</th>\n",
       "    </tr>\n",
       "  </thead>\n",
       "  <tbody>\n",
       "    <tr>\n",
       "      <th>0</th>\n",
       "      <td>0</td>\n",
       "      <td>13.188230</td>\n",
       "      <td>Steven Matz</td>\n",
       "    </tr>\n",
       "    <tr>\n",
       "      <th>1</th>\n",
       "      <td>1</td>\n",
       "      <td>16.539690</td>\n",
       "      <td>Ian Anderson</td>\n",
       "    </tr>\n",
       "    <tr>\n",
       "      <th>2</th>\n",
       "      <td>2</td>\n",
       "      <td>9.745426</td>\n",
       "      <td>Chad Kuhl</td>\n",
       "    </tr>\n",
       "    <tr>\n",
       "      <th>3</th>\n",
       "      <td>3</td>\n",
       "      <td>14.740085</td>\n",
       "      <td>Tony Gonsolin</td>\n",
       "    </tr>\n",
       "    <tr>\n",
       "      <th>4</th>\n",
       "      <td>4</td>\n",
       "      <td>13.532833</td>\n",
       "      <td>Pablo Lopez</td>\n",
       "    </tr>\n",
       "  </tbody>\n",
       "</table>\n",
       "</div>"
      ],
      "text/plain": [
       "   Unnamed: 0      preds           Name\n",
       "0           0  13.188230    Steven Matz\n",
       "1           1  16.539690   Ian Anderson\n",
       "2           2   9.745426      Chad Kuhl\n",
       "3           3  14.740085  Tony Gonsolin\n",
       "4           4  13.532833    Pablo Lopez"
      ]
     },
     "execution_count": 16,
     "metadata": {},
     "output_type": "execute_result"
    }
   ],
   "source": [
    "pitchers = pd.read_csv('./merged_data/pitch_predictions.csv')\n",
    "pitchers.head()"
   ]
  },
  {
   "cell_type": "code",
   "execution_count": 17,
   "metadata": {
    "ExecuteTime": {
     "end_time": "2021-07-07T12:45:02.265275Z",
     "start_time": "2021-07-07T12:45:02.258127Z"
    }
   },
   "outputs": [],
   "source": [
    "pitch_preds = pd.merge(left = sals, right = pitchers[['Name','preds']])"
   ]
  },
  {
   "cell_type": "code",
   "execution_count": 18,
   "metadata": {
    "ExecuteTime": {
     "end_time": "2021-07-07T12:45:02.269625Z",
     "start_time": "2021-07-07T12:45:02.266507Z"
    }
   },
   "outputs": [],
   "source": [
    "pred_df = pd.DataFrame(preds, columns = ['Name', 'pred_score'])"
   ]
  },
  {
   "cell_type": "code",
   "execution_count": 19,
   "metadata": {
    "ExecuteTime": {
     "end_time": "2021-07-07T12:45:02.275558Z",
     "start_time": "2021-07-07T12:45:02.270725Z"
    }
   },
   "outputs": [],
   "source": [
    "merge_df = pd.merge(left = sals, right = pred_df)"
   ]
  },
  {
   "cell_type": "code",
   "execution_count": 20,
   "metadata": {
    "ExecuteTime": {
     "end_time": "2021-07-07T12:45:02.284708Z",
     "start_time": "2021-07-07T12:45:02.276658Z"
    }
   },
   "outputs": [
    {
     "data": {
      "text/html": [
       "<div>\n",
       "<style scoped>\n",
       "    .dataframe tbody tr th:only-of-type {\n",
       "        vertical-align: middle;\n",
       "    }\n",
       "\n",
       "    .dataframe tbody tr th {\n",
       "        vertical-align: top;\n",
       "    }\n",
       "\n",
       "    .dataframe thead th {\n",
       "        text-align: right;\n",
       "    }\n",
       "</style>\n",
       "<table border=\"1\" class=\"dataframe\">\n",
       "  <thead>\n",
       "    <tr style=\"text-align: right;\">\n",
       "      <th></th>\n",
       "      <th>team code</th>\n",
       "      <th>game_date</th>\n",
       "      <th>game_number</th>\n",
       "      <th>mlb id</th>\n",
       "      <th>player name</th>\n",
       "      <th>batting order</th>\n",
       "      <th>confirmed</th>\n",
       "      <th>position</th>\n",
       "    </tr>\n",
       "  </thead>\n",
       "  <tbody>\n",
       "    <tr>\n",
       "      <th>0</th>\n",
       "      <td>ARI</td>\n",
       "      <td>6/30/2021</td>\n",
       "      <td>1</td>\n",
       "      <td>668942.0</td>\n",
       "      <td>Josh Rojas</td>\n",
       "      <td>1</td>\n",
       "      <td>Y</td>\n",
       "      <td>LF</td>\n",
       "    </tr>\n",
       "    <tr>\n",
       "      <th>1</th>\n",
       "      <td>ARI</td>\n",
       "      <td>6/30/2021</td>\n",
       "      <td>1</td>\n",
       "      <td>641796.0</td>\n",
       "      <td>Tim Locastro</td>\n",
       "      <td>2</td>\n",
       "      <td>Y</td>\n",
       "      <td>CF</td>\n",
       "    </tr>\n",
       "    <tr>\n",
       "      <th>2</th>\n",
       "      <td>ARI</td>\n",
       "      <td>6/30/2021</td>\n",
       "      <td>1</td>\n",
       "      <td>500871.0</td>\n",
       "      <td>Eduardo Escobar</td>\n",
       "      <td>3</td>\n",
       "      <td>Y</td>\n",
       "      <td>2B</td>\n",
       "    </tr>\n",
       "    <tr>\n",
       "      <th>3</th>\n",
       "      <td>ARI</td>\n",
       "      <td>6/30/2021</td>\n",
       "      <td>1</td>\n",
       "      <td>572233.0</td>\n",
       "      <td>Christian Walker</td>\n",
       "      <td>4</td>\n",
       "      <td>Y</td>\n",
       "      <td>1B</td>\n",
       "    </tr>\n",
       "    <tr>\n",
       "      <th>4</th>\n",
       "      <td>ARI</td>\n",
       "      <td>6/30/2021</td>\n",
       "      <td>1</td>\n",
       "      <td>452678.0</td>\n",
       "      <td>Asdrubal Cabrera</td>\n",
       "      <td>5</td>\n",
       "      <td>Y</td>\n",
       "      <td>3B</td>\n",
       "    </tr>\n",
       "  </tbody>\n",
       "</table>\n",
       "</div>"
      ],
      "text/plain": [
       "  team code  game_date   game_number    mlb id       player name  \\\n",
       "0       ARI  6/30/2021             1  668942.0        Josh Rojas   \n",
       "1       ARI  6/30/2021             1  641796.0      Tim Locastro   \n",
       "2       ARI  6/30/2021             1  500871.0   Eduardo Escobar   \n",
       "3       ARI  6/30/2021             1  572233.0  Christian Walker   \n",
       "4       ARI  6/30/2021             1  452678.0  Asdrubal Cabrera   \n",
       "\n",
       "   batting order  confirmed  position  \n",
       "0              1          Y        LF  \n",
       "1              2          Y        CF  \n",
       "2              3          Y        2B  \n",
       "3              4          Y        1B  \n",
       "4              5          Y        3B  "
      ]
     },
     "execution_count": 20,
     "metadata": {},
     "output_type": "execute_result"
    }
   ],
   "source": [
    "# import in lineups of known starters\n",
    "starters = pd.read_csv('./Datasets/Lineups_2021_06_30.csv')\n",
    "starters.head()"
   ]
  },
  {
   "cell_type": "markdown",
   "metadata": {},
   "source": [
    "I use the list of starters to make sure I am not adding bench players to my lineup."
   ]
  },
  {
   "cell_type": "code",
   "execution_count": 21,
   "metadata": {
    "ExecuteTime": {
     "end_time": "2021-07-07T12:45:02.287456Z",
     "start_time": "2021-07-07T12:45:02.285860Z"
    }
   },
   "outputs": [],
   "source": [
    "#starters = starters[starters['team code'] != 'PIT']\n",
    "#starters = starters[starters['team code'] != 'CIN']\n",
    "#starters = starters[starters['team code'] != 'COL']\n",
    "#starters = starters[starters['team code'] != 'PHI']"
   ]
  },
  {
   "cell_type": "markdown",
   "metadata": {},
   "source": [
    "Some draftkings contests only use a limited amount of games being played that day so I use this code if that is the case."
   ]
  },
  {
   "cell_type": "code",
   "execution_count": 22,
   "metadata": {
    "ExecuteTime": {
     "end_time": "2021-07-07T12:45:02.291385Z",
     "start_time": "2021-07-07T12:45:02.288673Z"
    }
   },
   "outputs": [
    {
     "data": {
      "text/plain": [
       "Index(['team code', ' game_date', ' game_number', ' mlb id', ' player name',\n",
       "       ' batting order', ' confirmed', ' position'],\n",
       "      dtype='object')"
      ]
     },
     "execution_count": 22,
     "metadata": {},
     "output_type": "execute_result"
    }
   ],
   "source": [
    "starters.columns"
   ]
  },
  {
   "cell_type": "code",
   "execution_count": 23,
   "metadata": {
    "ExecuteTime": {
     "end_time": "2021-07-07T12:45:02.298849Z",
     "start_time": "2021-07-07T12:45:02.296826Z"
    }
   },
   "outputs": [],
   "source": [
    "#ohtani = sals[sals['Name']== 'Shohei Ohtani']\n",
    "#if ohtani['Roster Position'].values[0] == 'P':\n",
    "#    ohtani['pred_score'] = pred_df.loc[pred_df['Name'] == 'Shohei (P) Ohtani', 'pred_score'].values[0]\n",
    "#    ohtani['Name'] = 'Shohei (P) Ohtani'\n",
    "#elif ohtani['Roster Position'].values[0] != 'P':\n",
    "#    ohtani['pred_score'] = pred_df.loc[pred_df['Name'] == 'Shohei (H) Ohtani', 'pred_score'].values[0]\n",
    "#    ohtani['Name'] = 'Shohei (H) Ohtani'"
   ]
  },
  {
   "cell_type": "code",
   "execution_count": 24,
   "metadata": {
    "ExecuteTime": {
     "end_time": "2021-07-07T12:45:02.301941Z",
     "start_time": "2021-07-07T12:45:02.300654Z"
    }
   },
   "outputs": [],
   "source": [
    "#merge_df = pd.concat([merge_df, ohtani])"
   ]
  },
  {
   "cell_type": "markdown",
   "metadata": {},
   "source": [
    "When Ohtani is playing, I need to include this code to get the correct prediction in the dataframe."
   ]
  },
  {
   "cell_type": "code",
   "execution_count": 25,
   "metadata": {
    "ExecuteTime": {
     "end_time": "2021-07-07T12:45:02.314384Z",
     "start_time": "2021-07-07T12:45:02.303056Z"
    }
   },
   "outputs": [
    {
     "data": {
      "text/html": [
       "<div>\n",
       "<style scoped>\n",
       "    .dataframe tbody tr th:only-of-type {\n",
       "        vertical-align: middle;\n",
       "    }\n",
       "\n",
       "    .dataframe tbody tr th {\n",
       "        vertical-align: top;\n",
       "    }\n",
       "\n",
       "    .dataframe thead th {\n",
       "        text-align: right;\n",
       "    }\n",
       "</style>\n",
       "<table border=\"1\" class=\"dataframe\">\n",
       "  <thead>\n",
       "    <tr style=\"text-align: right;\">\n",
       "      <th></th>\n",
       "      <th>Position</th>\n",
       "      <th>Name + ID</th>\n",
       "      <th>Name</th>\n",
       "      <th>ID</th>\n",
       "      <th>Roster Position</th>\n",
       "      <th>Salary</th>\n",
       "      <th>Game Info</th>\n",
       "      <th>TeamAbbrev</th>\n",
       "      <th>AvgPointsPerGame</th>\n",
       "      <th>pred_score</th>\n",
       "    </tr>\n",
       "  </thead>\n",
       "  <tbody>\n",
       "    <tr>\n",
       "      <th>0</th>\n",
       "      <td>RP</td>\n",
       "      <td>Luis Garcia (18306869)</td>\n",
       "      <td>Luis Garcia</td>\n",
       "      <td>18306869</td>\n",
       "      <td>P</td>\n",
       "      <td>8100</td>\n",
       "      <td>OAK@HOU 07/06/2021 08:10PM ET</td>\n",
       "      <td>HOU</td>\n",
       "      <td>17.06</td>\n",
       "      <td>4.568105</td>\n",
       "    </tr>\n",
       "    <tr>\n",
       "      <th>1</th>\n",
       "      <td>RP</td>\n",
       "      <td>Luis Garcia (18307113)</td>\n",
       "      <td>Luis Garcia</td>\n",
       "      <td>18307113</td>\n",
       "      <td>P</td>\n",
       "      <td>4000</td>\n",
       "      <td>NYY@SEA 07/06/2021 10:10PM ET</td>\n",
       "      <td>NYY</td>\n",
       "      <td>0.00</td>\n",
       "      <td>4.568105</td>\n",
       "    </tr>\n",
       "    <tr>\n",
       "      <th>2</th>\n",
       "      <td>2B/SS</td>\n",
       "      <td>Luis Garcia (18306306)</td>\n",
       "      <td>Luis Garcia</td>\n",
       "      <td>18306306</td>\n",
       "      <td>2B/SS</td>\n",
       "      <td>2400</td>\n",
       "      <td>WAS@SD 07/06/2021 10:10PM ET</td>\n",
       "      <td>WAS</td>\n",
       "      <td>2.46</td>\n",
       "      <td>4.568105</td>\n",
       "    </tr>\n",
       "    <tr>\n",
       "      <th>3</th>\n",
       "      <td>SS</td>\n",
       "      <td>Trea Turner (18305775)</td>\n",
       "      <td>Trea Turner</td>\n",
       "      <td>18305775</td>\n",
       "      <td>SS</td>\n",
       "      <td>6400</td>\n",
       "      <td>WAS@SD 07/06/2021 10:10PM ET</td>\n",
       "      <td>WAS</td>\n",
       "      <td>9.78</td>\n",
       "      <td>9.513323</td>\n",
       "    </tr>\n",
       "    <tr>\n",
       "      <th>4</th>\n",
       "      <td>1B</td>\n",
       "      <td>Vladimir Guerrero Jr. (18305776)</td>\n",
       "      <td>Vladimir Guerrero Jr.</td>\n",
       "      <td>18305776</td>\n",
       "      <td>1B</td>\n",
       "      <td>6200</td>\n",
       "      <td>TOR@BAL 07/06/2021 07:05PM ET</td>\n",
       "      <td>TOR</td>\n",
       "      <td>11.20</td>\n",
       "      <td>11.177383</td>\n",
       "    </tr>\n",
       "    <tr>\n",
       "      <th>...</th>\n",
       "      <td>...</td>\n",
       "      <td>...</td>\n",
       "      <td>...</td>\n",
       "      <td>...</td>\n",
       "      <td>...</td>\n",
       "      <td>...</td>\n",
       "      <td>...</td>\n",
       "      <td>...</td>\n",
       "      <td>...</td>\n",
       "      <td>...</td>\n",
       "    </tr>\n",
       "    <tr>\n",
       "      <th>477</th>\n",
       "      <td>1B</td>\n",
       "      <td>Chris Gittens (18306478)</td>\n",
       "      <td>Chris Gittens</td>\n",
       "      <td>18306478</td>\n",
       "      <td>1B</td>\n",
       "      <td>2000</td>\n",
       "      <td>NYY@SEA 07/06/2021 10:10PM ET</td>\n",
       "      <td>NYY</td>\n",
       "      <td>2.90</td>\n",
       "      <td>3.376704</td>\n",
       "    </tr>\n",
       "    <tr>\n",
       "      <th>478</th>\n",
       "      <td>C</td>\n",
       "      <td>Jose Godoy (18306480)</td>\n",
       "      <td>Jose Godoy</td>\n",
       "      <td>18306480</td>\n",
       "      <td>C</td>\n",
       "      <td>2000</td>\n",
       "      <td>NYY@SEA 07/06/2021 10:10PM ET</td>\n",
       "      <td>SEA</td>\n",
       "      <td>2.25</td>\n",
       "      <td>1.849429</td>\n",
       "    </tr>\n",
       "    <tr>\n",
       "      <th>479</th>\n",
       "      <td>OF</td>\n",
       "      <td>Daz Cameron (18306199)</td>\n",
       "      <td>Daz Cameron</td>\n",
       "      <td>18306199</td>\n",
       "      <td>OF</td>\n",
       "      <td>2000</td>\n",
       "      <td>DET@TEX 07/06/2021 08:05PM ET</td>\n",
       "      <td>DET</td>\n",
       "      <td>7.17</td>\n",
       "      <td>1.756267</td>\n",
       "    </tr>\n",
       "    <tr>\n",
       "      <th>480</th>\n",
       "      <td>OF</td>\n",
       "      <td>Leody Taveras (18306405)</td>\n",
       "      <td>Leody Taveras</td>\n",
       "      <td>18306405</td>\n",
       "      <td>OF</td>\n",
       "      <td>2000</td>\n",
       "      <td>DET@TEX 07/06/2021 08:05PM ET</td>\n",
       "      <td>TEX</td>\n",
       "      <td>2.40</td>\n",
       "      <td>2.399999</td>\n",
       "    </tr>\n",
       "    <tr>\n",
       "      <th>481</th>\n",
       "      <td>C</td>\n",
       "      <td>Grayson Greiner (18306413)</td>\n",
       "      <td>Grayson Greiner</td>\n",
       "      <td>18306413</td>\n",
       "      <td>C</td>\n",
       "      <td>2000</td>\n",
       "      <td>DET@TEX 07/06/2021 08:05PM ET</td>\n",
       "      <td>DET</td>\n",
       "      <td>3.85</td>\n",
       "      <td>3.571418</td>\n",
       "    </tr>\n",
       "  </tbody>\n",
       "</table>\n",
       "<p>482 rows × 10 columns</p>\n",
       "</div>"
      ],
      "text/plain": [
       "    Position                         Name + ID                   Name  \\\n",
       "0         RP            Luis Garcia (18306869)            Luis Garcia   \n",
       "1         RP            Luis Garcia (18307113)            Luis Garcia   \n",
       "2      2B/SS            Luis Garcia (18306306)            Luis Garcia   \n",
       "3         SS            Trea Turner (18305775)            Trea Turner   \n",
       "4         1B  Vladimir Guerrero Jr. (18305776)  Vladimir Guerrero Jr.   \n",
       "..       ...                               ...                    ...   \n",
       "477       1B          Chris Gittens (18306478)          Chris Gittens   \n",
       "478        C             Jose Godoy (18306480)             Jose Godoy   \n",
       "479       OF            Daz Cameron (18306199)            Daz Cameron   \n",
       "480       OF          Leody Taveras (18306405)          Leody Taveras   \n",
       "481        C        Grayson Greiner (18306413)        Grayson Greiner   \n",
       "\n",
       "           ID Roster Position  Salary                      Game Info  \\\n",
       "0    18306869               P    8100  OAK@HOU 07/06/2021 08:10PM ET   \n",
       "1    18307113               P    4000  NYY@SEA 07/06/2021 10:10PM ET   \n",
       "2    18306306           2B/SS    2400   WAS@SD 07/06/2021 10:10PM ET   \n",
       "3    18305775              SS    6400   WAS@SD 07/06/2021 10:10PM ET   \n",
       "4    18305776              1B    6200  TOR@BAL 07/06/2021 07:05PM ET   \n",
       "..        ...             ...     ...                            ...   \n",
       "477  18306478              1B    2000  NYY@SEA 07/06/2021 10:10PM ET   \n",
       "478  18306480               C    2000  NYY@SEA 07/06/2021 10:10PM ET   \n",
       "479  18306199              OF    2000  DET@TEX 07/06/2021 08:05PM ET   \n",
       "480  18306405              OF    2000  DET@TEX 07/06/2021 08:05PM ET   \n",
       "481  18306413               C    2000  DET@TEX 07/06/2021 08:05PM ET   \n",
       "\n",
       "    TeamAbbrev  AvgPointsPerGame  pred_score  \n",
       "0          HOU             17.06    4.568105  \n",
       "1          NYY              0.00    4.568105  \n",
       "2          WAS              2.46    4.568105  \n",
       "3          WAS              9.78    9.513323  \n",
       "4          TOR             11.20   11.177383  \n",
       "..         ...               ...         ...  \n",
       "477        NYY              2.90    3.376704  \n",
       "478        SEA              2.25    1.849429  \n",
       "479        DET              7.17    1.756267  \n",
       "480        TEX              2.40    2.399999  \n",
       "481        DET              3.85    3.571418  \n",
       "\n",
       "[482 rows x 10 columns]"
      ]
     },
     "execution_count": 25,
     "metadata": {},
     "output_type": "execute_result"
    }
   ],
   "source": [
    "merge_df"
   ]
  },
  {
   "cell_type": "code",
   "execution_count": 26,
   "metadata": {
    "ExecuteTime": {
     "end_time": "2021-07-07T12:45:02.320164Z",
     "start_time": "2021-07-07T12:45:02.315476Z"
    }
   },
   "outputs": [],
   "source": [
    "final = pd.merge(merge_df,starters[[' player name']], left_on = 'Name',\n",
    "                 right_on = ' player name').drop(columns = [' player name'])"
   ]
  },
  {
   "cell_type": "code",
   "execution_count": 27,
   "metadata": {
    "ExecuteTime": {
     "end_time": "2021-07-07T12:45:02.323565Z",
     "start_time": "2021-07-07T12:45:02.321226Z"
    }
   },
   "outputs": [],
   "source": [
    "final = final[final['Roster Position'] != 'P']"
   ]
  },
  {
   "cell_type": "code",
   "execution_count": 28,
   "metadata": {
    "ExecuteTime": {
     "end_time": "2021-07-07T12:45:02.335025Z",
     "start_time": "2021-07-07T12:45:02.324658Z"
    }
   },
   "outputs": [
    {
     "data": {
      "text/html": [
       "<div>\n",
       "<style scoped>\n",
       "    .dataframe tbody tr th:only-of-type {\n",
       "        vertical-align: middle;\n",
       "    }\n",
       "\n",
       "    .dataframe tbody tr th {\n",
       "        vertical-align: top;\n",
       "    }\n",
       "\n",
       "    .dataframe thead th {\n",
       "        text-align: right;\n",
       "    }\n",
       "</style>\n",
       "<table border=\"1\" class=\"dataframe\">\n",
       "  <thead>\n",
       "    <tr style=\"text-align: right;\">\n",
       "      <th></th>\n",
       "      <th>Position</th>\n",
       "      <th>Name + ID</th>\n",
       "      <th>Name</th>\n",
       "      <th>ID</th>\n",
       "      <th>Roster Position</th>\n",
       "      <th>Salary</th>\n",
       "      <th>Game Info</th>\n",
       "      <th>TeamAbbrev</th>\n",
       "      <th>AvgPointsPerGame</th>\n",
       "      <th>pred_score</th>\n",
       "    </tr>\n",
       "  </thead>\n",
       "  <tbody>\n",
       "    <tr>\n",
       "      <th>2</th>\n",
       "      <td>2B/SS</td>\n",
       "      <td>Luis Garcia (18306306)</td>\n",
       "      <td>Luis Garcia</td>\n",
       "      <td>18306306</td>\n",
       "      <td>2B/SS</td>\n",
       "      <td>2400</td>\n",
       "      <td>WAS@SD 07/06/2021 10:10PM ET</td>\n",
       "      <td>WAS</td>\n",
       "      <td>2.46</td>\n",
       "      <td>4.568105</td>\n",
       "    </tr>\n",
       "    <tr>\n",
       "      <th>3</th>\n",
       "      <td>SS</td>\n",
       "      <td>Trea Turner (18305775)</td>\n",
       "      <td>Trea Turner</td>\n",
       "      <td>18305775</td>\n",
       "      <td>SS</td>\n",
       "      <td>6400</td>\n",
       "      <td>WAS@SD 07/06/2021 10:10PM ET</td>\n",
       "      <td>WAS</td>\n",
       "      <td>9.78</td>\n",
       "      <td>9.513323</td>\n",
       "    </tr>\n",
       "    <tr>\n",
       "      <th>4</th>\n",
       "      <td>OF</td>\n",
       "      <td>Kyle Schwarber (18306217)</td>\n",
       "      <td>Kyle Schwarber</td>\n",
       "      <td>18306217</td>\n",
       "      <td>OF</td>\n",
       "      <td>6100</td>\n",
       "      <td>WAS@SD 07/06/2021 10:10PM ET</td>\n",
       "      <td>WAS</td>\n",
       "      <td>9.18</td>\n",
       "      <td>13.966620</td>\n",
       "    </tr>\n",
       "    <tr>\n",
       "      <th>5</th>\n",
       "      <td>2B</td>\n",
       "      <td>Ozzie Albies (18305783)</td>\n",
       "      <td>Ozzie Albies</td>\n",
       "      <td>18305783</td>\n",
       "      <td>2B</td>\n",
       "      <td>5900</td>\n",
       "      <td>ATL@PIT 07/06/2021 07:05PM ET</td>\n",
       "      <td>ATL</td>\n",
       "      <td>9.42</td>\n",
       "      <td>12.523956</td>\n",
       "    </tr>\n",
       "    <tr>\n",
       "      <th>6</th>\n",
       "      <td>1B</td>\n",
       "      <td>Freddie Freeman (18305785)</td>\n",
       "      <td>Freddie Freeman</td>\n",
       "      <td>18305785</td>\n",
       "      <td>1B</td>\n",
       "      <td>5900</td>\n",
       "      <td>ATL@PIT 07/06/2021 07:05PM ET</td>\n",
       "      <td>ATL</td>\n",
       "      <td>8.76</td>\n",
       "      <td>8.708901</td>\n",
       "    </tr>\n",
       "    <tr>\n",
       "      <th>...</th>\n",
       "      <td>...</td>\n",
       "      <td>...</td>\n",
       "      <td>...</td>\n",
       "      <td>...</td>\n",
       "      <td>...</td>\n",
       "      <td>...</td>\n",
       "      <td>...</td>\n",
       "      <td>...</td>\n",
       "      <td>...</td>\n",
       "      <td>...</td>\n",
       "    </tr>\n",
       "    <tr>\n",
       "      <th>229</th>\n",
       "      <td>OF</td>\n",
       "      <td>Skye Bolt (18306187)</td>\n",
       "      <td>Skye Bolt</td>\n",
       "      <td>18306187</td>\n",
       "      <td>OF</td>\n",
       "      <td>2000</td>\n",
       "      <td>OAK@HOU 07/06/2021 08:10PM ET</td>\n",
       "      <td>OAK</td>\n",
       "      <td>1.77</td>\n",
       "      <td>1.789474</td>\n",
       "    </tr>\n",
       "    <tr>\n",
       "      <th>230</th>\n",
       "      <td>OF</td>\n",
       "      <td>Skye Bolt (18306187)</td>\n",
       "      <td>Skye Bolt</td>\n",
       "      <td>18306187</td>\n",
       "      <td>OF</td>\n",
       "      <td>2000</td>\n",
       "      <td>OAK@HOU 07/06/2021 08:10PM ET</td>\n",
       "      <td>OAK</td>\n",
       "      <td>1.77</td>\n",
       "      <td>1.789474</td>\n",
       "    </tr>\n",
       "    <tr>\n",
       "      <th>231</th>\n",
       "      <td>2B</td>\n",
       "      <td>Danny Mendick (18306195)</td>\n",
       "      <td>Danny Mendick</td>\n",
       "      <td>18306195</td>\n",
       "      <td>2B</td>\n",
       "      <td>2000</td>\n",
       "      <td>CWS@MIN 07/06/2021 08:10PM ET</td>\n",
       "      <td>CWS</td>\n",
       "      <td>3.77</td>\n",
       "      <td>3.863560</td>\n",
       "    </tr>\n",
       "    <tr>\n",
       "      <th>232</th>\n",
       "      <td>OF</td>\n",
       "      <td>Taylor Trammell (18306181)</td>\n",
       "      <td>Taylor Trammell</td>\n",
       "      <td>18306181</td>\n",
       "      <td>OF</td>\n",
       "      <td>2000</td>\n",
       "      <td>NYY@SEA 07/06/2021 10:10PM ET</td>\n",
       "      <td>SEA</td>\n",
       "      <td>5.65</td>\n",
       "      <td>4.880415</td>\n",
       "    </tr>\n",
       "    <tr>\n",
       "      <th>233</th>\n",
       "      <td>OF</td>\n",
       "      <td>Daz Cameron (18306199)</td>\n",
       "      <td>Daz Cameron</td>\n",
       "      <td>18306199</td>\n",
       "      <td>OF</td>\n",
       "      <td>2000</td>\n",
       "      <td>DET@TEX 07/06/2021 08:05PM ET</td>\n",
       "      <td>DET</td>\n",
       "      <td>7.17</td>\n",
       "      <td>1.756267</td>\n",
       "    </tr>\n",
       "  </tbody>\n",
       "</table>\n",
       "<p>232 rows × 10 columns</p>\n",
       "</div>"
      ],
      "text/plain": [
       "    Position                   Name + ID             Name        ID  \\\n",
       "2      2B/SS      Luis Garcia (18306306)      Luis Garcia  18306306   \n",
       "3         SS      Trea Turner (18305775)      Trea Turner  18305775   \n",
       "4         OF   Kyle Schwarber (18306217)   Kyle Schwarber  18306217   \n",
       "5         2B     Ozzie Albies (18305783)     Ozzie Albies  18305783   \n",
       "6         1B  Freddie Freeman (18305785)  Freddie Freeman  18305785   \n",
       "..       ...                         ...              ...       ...   \n",
       "229       OF        Skye Bolt (18306187)        Skye Bolt  18306187   \n",
       "230       OF        Skye Bolt (18306187)        Skye Bolt  18306187   \n",
       "231       2B    Danny Mendick (18306195)    Danny Mendick  18306195   \n",
       "232       OF  Taylor Trammell (18306181)  Taylor Trammell  18306181   \n",
       "233       OF      Daz Cameron (18306199)      Daz Cameron  18306199   \n",
       "\n",
       "    Roster Position  Salary                      Game Info TeamAbbrev  \\\n",
       "2             2B/SS    2400   WAS@SD 07/06/2021 10:10PM ET        WAS   \n",
       "3                SS    6400   WAS@SD 07/06/2021 10:10PM ET        WAS   \n",
       "4                OF    6100   WAS@SD 07/06/2021 10:10PM ET        WAS   \n",
       "5                2B    5900  ATL@PIT 07/06/2021 07:05PM ET        ATL   \n",
       "6                1B    5900  ATL@PIT 07/06/2021 07:05PM ET        ATL   \n",
       "..              ...     ...                            ...        ...   \n",
       "229              OF    2000  OAK@HOU 07/06/2021 08:10PM ET        OAK   \n",
       "230              OF    2000  OAK@HOU 07/06/2021 08:10PM ET        OAK   \n",
       "231              2B    2000  CWS@MIN 07/06/2021 08:10PM ET        CWS   \n",
       "232              OF    2000  NYY@SEA 07/06/2021 10:10PM ET        SEA   \n",
       "233              OF    2000  DET@TEX 07/06/2021 08:05PM ET        DET   \n",
       "\n",
       "     AvgPointsPerGame  pred_score  \n",
       "2                2.46    4.568105  \n",
       "3                9.78    9.513323  \n",
       "4                9.18   13.966620  \n",
       "5                9.42   12.523956  \n",
       "6                8.76    8.708901  \n",
       "..                ...         ...  \n",
       "229              1.77    1.789474  \n",
       "230              1.77    1.789474  \n",
       "231              3.77    3.863560  \n",
       "232              5.65    4.880415  \n",
       "233              7.17    1.756267  \n",
       "\n",
       "[232 rows x 10 columns]"
      ]
     },
     "execution_count": 28,
     "metadata": {},
     "output_type": "execute_result"
    }
   ],
   "source": [
    "final"
   ]
  },
  {
   "cell_type": "code",
   "execution_count": 29,
   "metadata": {
    "ExecuteTime": {
     "end_time": "2021-07-07T12:45:02.338449Z",
     "start_time": "2021-07-07T12:45:02.336058Z"
    }
   },
   "outputs": [],
   "source": [
    "# Averaging my predictions with average score to hedge\n",
    "pitch_preds['pred_score'] = (pitch_preds['AvgPointsPerGame'] + pitch_preds['preds'])/2"
   ]
  },
  {
   "cell_type": "code",
   "execution_count": 30,
   "metadata": {
    "ExecuteTime": {
     "end_time": "2021-07-07T12:45:02.342594Z",
     "start_time": "2021-07-07T12:45:02.339765Z"
    }
   },
   "outputs": [],
   "source": [
    "pitch_preds.drop(columns = ['preds'], inplace= True)"
   ]
  },
  {
   "cell_type": "code",
   "execution_count": 31,
   "metadata": {
    "ExecuteTime": {
     "end_time": "2021-07-07T12:45:02.346841Z",
     "start_time": "2021-07-07T12:45:02.343727Z"
    }
   },
   "outputs": [],
   "source": [
    "final = pd.concat([final, pitch_preds])"
   ]
  },
  {
   "cell_type": "code",
   "execution_count": 32,
   "metadata": {
    "ExecuteTime": {
     "end_time": "2021-07-07T12:45:02.350769Z",
     "start_time": "2021-07-07T12:45:02.348096Z"
    }
   },
   "outputs": [
    {
     "data": {
      "text/plain": [
       "{'ARI',\n",
       " 'ATL',\n",
       " 'BAL',\n",
       " 'BOS',\n",
       " 'CHC',\n",
       " 'CIN',\n",
       " 'CLE',\n",
       " 'COL',\n",
       " 'CWS',\n",
       " 'DET',\n",
       " 'HOU',\n",
       " 'KC',\n",
       " 'LAA',\n",
       " 'LAD',\n",
       " 'MIA',\n",
       " 'MIL',\n",
       " 'MIN',\n",
       " 'NYM',\n",
       " 'NYY',\n",
       " 'OAK',\n",
       " 'PHI',\n",
       " 'PIT',\n",
       " 'SD',\n",
       " 'SEA',\n",
       " 'SF',\n",
       " 'STL',\n",
       " 'TB',\n",
       " 'TEX',\n",
       " 'TOR',\n",
       " 'WAS'}"
      ]
     },
     "execution_count": 32,
     "metadata": {},
     "output_type": "execute_result"
    }
   ],
   "source": [
    "set(final['TeamAbbrev'])"
   ]
  },
  {
   "cell_type": "markdown",
   "metadata": {},
   "source": [
    "The draftkings id is needed to submit to draftkings so I merged the predictions with the draftkings salary csv."
   ]
  },
  {
   "cell_type": "code",
   "execution_count": 33,
   "metadata": {
    "ExecuteTime": {
     "end_time": "2021-07-07T12:45:02.353431Z",
     "start_time": "2021-07-07T12:45:02.351739Z"
    }
   },
   "outputs": [],
   "source": [
    "# Lineup creiumation using genetic algorithm\n",
    "# Used https://med.com/@jarvisnederlof/building-a-genetic-algorithm-in-python-for-daily-fantasy-sports-9f497d378e34\n",
    "\n",
    "import csv\n",
    "import time \n",
    "import random\n",
    "import copy"
   ]
  },
  {
   "cell_type": "code",
   "execution_count": 34,
   "metadata": {
    "ExecuteTime": {
     "end_time": "2021-07-07T12:45:02.373976Z",
     "start_time": "2021-07-07T12:45:02.354709Z"
    }
   },
   "outputs": [],
   "source": [
    "class GeneticMLB(object):\n",
    "    \n",
    "    def __init__(self, num_lineups, duration = 60):\n",
    "        self.num_lineups = num_lineups\n",
    "        self.duration = duration\n",
    "        self.pitcher = []\n",
    "        self.catcher = []\n",
    "        self.first = []\n",
    "        self.second = []\n",
    "        self.short = []\n",
    "        self.third = []\n",
    "        self.of = []\n",
    "        self.top_150 = []\n",
    "        \n",
    "        \n",
    "        \n",
    "    def load_roster(self):\n",
    "        for i, row in final.iterrows():\n",
    "            player = {}\n",
    "            player['name'] = row['Name + ID']\n",
    "            player['id'] = row['ID']\n",
    "            player['pos'] = row['Roster Position']\n",
    "            player['salary'] = row['Salary']\n",
    "            player['pred_score'] = row['pred_score']\n",
    "\n",
    "\n",
    "            if 'P' in player['pos']:\n",
    "                self.pitcher.append(player)\n",
    "            if 'C' in player['pos']:\n",
    "                self.catcher.append(player)\n",
    "            if '1B' in player['pos']:\n",
    "                self.first.append(player)\n",
    "            if '2B' in player['pos']:\n",
    "                self.second.append(player)\n",
    "            if 'SS' in player['pos']:\n",
    "                self.short.append(player)\n",
    "            if '3B' in player['pos']:\n",
    "                self.third.append(player)\n",
    "            if 'OF' in player['pos']:\n",
    "                self.of.append(player)\n",
    "                \n",
    "    def generate_lineup(self):\n",
    "        \n",
    "        while True:\n",
    "            lineup = []\n",
    "            lineup.append(self.pitcher[random.randint(0, len(self.pitcher)-1)])\n",
    "            lineup.append(self.pitcher[random.randint(0, len(self.pitcher)-1)])\n",
    "            lineup.append(self.catcher[random.randint(0, len(self.catcher)-1)])\n",
    "            lineup.append(self.first[random.randint(0, len(self.first)-1)])\n",
    "            lineup.append(self.second[random.randint(0, len(self.second)-1)])\n",
    "            lineup.append(self.third[random.randint(0, len(self.third)-1)])\n",
    "            lineup.append(self.short[random.randint(0, len(self.short)-1)])\n",
    "            lineup.append(self.of[random.randint(0, len(self.of)-1)])\n",
    "            lineup.append(self.of[random.randint(0, len(self.of)-1)])\n",
    "            lineup.append(self.of[random.randint(0, len(self.of)-1)])\n",
    "            \n",
    "            lineup = self.check_valid(lineup)\n",
    "            if lineup:\n",
    "                return lineup\n",
    "    # checking if lineups are valid and adding projected score\n",
    "    def check_valid(self, lineup):\n",
    "        \n",
    "        projection = sum(player['pred_score'] for player in lineup)\n",
    "        \n",
    "        salary = sum(player['salary'] for player in lineup)\n",
    "        \n",
    "        num_players = len(set(player['name'] for player in lineup))\n",
    "        \n",
    "        if salary <= 50_000 and num_players == 10:\n",
    "            lineup.extend((salary, projection))\n",
    "            return lineup\n",
    "        return False\n",
    "    \n",
    "    def mate_lineups(self, lineup1, lineup2):\n",
    "        # List all players per position of both lineups plus a random player\n",
    "        pitcher = [lineup1[0], lineup1[1], lineup2[0], lineup2[1], self.pitcher[random.randint(0, len(self.pitcher) -1)]]\n",
    "        catcher = [lineup1[2], lineup2[2], self.catcher[random.randint(0, len(self.catcher) -1)]]\n",
    "        first = [lineup1[3], lineup2[3], self.first[random.randint(0, len(self.first) -1)]]\n",
    "        second = [lineup1[4], lineup2[4], self.second[random.randint(0, len(self.second) -1)]]\n",
    "        third = [lineup1[5], lineup2[5], self.third[random.randint(0, len(self.third) -1)]]\n",
    "        short = [lineup1[6], lineup2[6], self.short[random.randint(0, len(self.short) -1)]]\n",
    "        of = [lineup1[7], lineup1[8], lineup1[9], lineup2[7], lineup2[8], lineup2[9], self.of[random.randint(0, len(self.of) -1)]]\n",
    "        \n",
    "        # Randomly grab players from each position to fill out new lineups\n",
    "        def grab_players(players, num):\n",
    "            avail_players = copy.deepcopy(players)\n",
    "            selected_players = []\n",
    "            while len(selected_players) < num:\n",
    "                i = random.randint(0, len(avail_players) - 1)\n",
    "                selected_players.append(avail_players[i])\n",
    "                del avail_players[i]\n",
    "            return selected_players\n",
    "        \n",
    "        # create new lineup by selecting players from lists\n",
    "        while True:\n",
    "            \n",
    "            lineup = []\n",
    "            lineup.extend(grab_players(pitcher, 2))\n",
    "            lineup.extend(grab_players(catcher, 1))\n",
    "            lineup.extend(grab_players(first, 1))\n",
    "            lineup.extend(grab_players(second, 1))\n",
    "            lineup.extend(grab_players(third, 1))\n",
    "            lineup.extend(grab_players(short, 1))\n",
    "            lineup.extend(grab_players(of, 3))\n",
    "            \n",
    "            lineup = self.check_valid(lineup)\n",
    "            \n",
    "            if lineup:\n",
    "                return lineup\n",
    "            \n",
    "    def get_lineups(self):\n",
    "        # make 10 lineups\n",
    "        new_lineups = [self.generate_lineup() for _ in range(10)]\n",
    "        # sort linuep by pred score\n",
    "        new_lineups.sort(key = lambda x: x[-1], reverse = True)\n",
    "        # add to top 150\n",
    "        self.top_150.extend(new_lineups)\n",
    "        # mate top 3 lineups\n",
    "        offspring_1 = self.mate_lineups(new_lineups[0], new_lineups[1])\n",
    "        offspring_2 = self.mate_lineups(new_lineups[0], new_lineups[2])\n",
    "        offspring_3 = self.mate_lineups(new_lineups[1], new_lineups[2])\n",
    "        # mate top 3 lineups with random lineup in to 150 and add to top 150\n",
    "        self.top_150.append(self.mate_lineups(offspring_1, self.top_150[random.randint(0, len(self.top_150)-1)]))\n",
    "        self.top_150.append(self.mate_lineups(offspring_2, self.top_150[random.randint(0, len(self.top_150)-1)]))\n",
    "        self.top_150.append(self.mate_lineups(offspring_3, self.top_150[random.randint(0, len(self.top_150)-1)]))\n",
    "        # add offspring to top 150\n",
    "        self.top_150.append(offspring_1)\n",
    "        self.top_150.append(offspring_2)\n",
    "        self.top_150.append(offspring_3)\n",
    "        \n",
    "        \n",
    "    def run(self):\n",
    "        \n",
    "        runtime = time.time() + self.duration\n",
    "        while time.time() < runtime:\n",
    "            self.get_lineups()\n",
    "            self.top_150.sort(key = lambda x: x[-1], reverse = True)\n",
    "            \n",
    "            self.top_150 = self.top_150[:150]\n",
    "            \n",
    "    def save_file(self):\n",
    "        \n",
    "        lineups = [[player['name'] if isinstance(player, dict) else player for player in lineup] for lineup in self.top_150]\n",
    "        \n",
    "        lineups = [lineups[i] for i in range(self.num_lineups - 1) if lineups[i] != lineups[i+1]]\n",
    "        \n",
    "        lineups_for_upload = [lineup[:10] for lineup in lineups]\n",
    "        \n",
    "        header = ['P','P','C','1B','2B','3B','SS','OF','OF','OF','OF','Salary','Proj']\n",
    "        \n",
    "        header_for_upload = ['P','P','C','1B','2B','3B','SS','OF','OF','OF','OF']\n",
    "        \n",
    "        with  open(\"./outputs/lineups.csv\", 'w') as f:\n",
    "            writer = csv.writer(f)\n",
    "            writer.writerow(header)\n",
    "            writer.writerows(lineups)\n",
    "\n",
    "        with  open(\"./outputs/lineups_for_upload.csv\", 'w') as f:\n",
    "            writer = csv.writer(f)\n",
    "            writer.writerow(header_for_upload)\n",
    "            writer.writerows(lineups_for_upload)\n",
    "        \n",
    "        \n",
    "        "
   ]
  },
  {
   "cell_type": "code",
   "execution_count": 35,
   "metadata": {
    "ExecuteTime": {
     "end_time": "2021-07-07T12:47:02.393155Z",
     "start_time": "2021-07-07T12:45:02.374924Z"
    }
   },
   "outputs": [],
   "source": [
    "g = GeneticMLB(num_lineups = 150, duration = 120)\n",
    "g.load_roster()\n",
    "g.run()\n",
    "g.save_file()"
   ]
  },
  {
   "cell_type": "markdown",
   "metadata": {},
   "source": [
    "This is the genetic algorithm that I adapted from the medium article to generate my lineups. It first creates lineups by randomly selecting players. It then sorts by predicted score. It takes the top 3 lineups and mates them while inserting one random player. This adds some randomness while still biasing towards the top. Every lineup that is generated is checked to ensure that it meets criteria set by DraftKings. This program runs for the duration set by the input with a default of 1 minute. It then saves the top 150 lineups in a format that can be directly input into DraftKings."
   ]
  },
  {
   "cell_type": "code",
   "execution_count": null,
   "metadata": {},
   "outputs": [],
   "source": []
  }
 ],
 "metadata": {
  "kernelspec": {
   "display_name": "Python 3",
   "language": "python",
   "name": "python3"
  },
  "language_info": {
   "codemirror_mode": {
    "name": "ipython",
    "version": 3
   },
   "file_extension": ".py",
   "mimetype": "text/x-python",
   "name": "python",
   "nbconvert_exporter": "python",
   "pygments_lexer": "ipython3",
   "version": "3.8.5"
  }
 },
 "nbformat": 4,
 "nbformat_minor": 4
}
