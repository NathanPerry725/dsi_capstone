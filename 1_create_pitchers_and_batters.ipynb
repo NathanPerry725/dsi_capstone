{
 "cells": [
  {
   "cell_type": "code",
   "execution_count": 2,
   "metadata": {
    "ExecuteTime": {
     "end_time": "2021-05-29T18:57:49.745044Z",
     "start_time": "2021-05-29T18:57:49.740071Z"
    }
   },
   "outputs": [],
   "source": [
    "import pandas as pd\n",
    "import numpy as np"
   ]
  },
  {
   "cell_type": "code",
   "execution_count": 10,
   "metadata": {
    "ExecuteTime": {
     "end_time": "2021-05-29T22:14:34.052541Z",
     "start_time": "2021-05-29T22:14:34.022812Z"
    }
   },
   "outputs": [],
   "source": [
    "lhh_vs_lhp = pd.read_csv('./Datasets/Downloads/Splits Leaderboard Data vs LHP as LHH.csv')\n",
    "lhh_vs_rhp = pd.read_csv('./Datasets/Downloads/Splits Leaderboard Data vs RHP as LHH.csv')\n",
    "rhh_vs_rhp = pd.read_csv('./Datasets/Downloads/Splits Leaderboard Data as RHH vs RHP.csv')\n",
    "rhh_vs_lhp = pd.read_csv('./Datasets/Downloads/Splits Leaderboard Data as RHH vs LHP.csv')"
   ]
  },
  {
   "cell_type": "code",
   "execution_count": 16,
   "metadata": {
    "ExecuteTime": {
     "end_time": "2021-06-03T02:31:38.789202Z",
     "start_time": "2021-06-03T02:31:38.550950Z"
    }
   },
   "outputs": [],
   "source": [
    "lhh_vs_lhp['bats'] = 'L'\n",
    "lhh_vs_lhp['pitch'] = 'L'\n",
    "lhh_vs_rhp['bats'] = 'L'\n",
    "lhh_vs_rhp['pitch'] = 'R'\n",
    "rhh_vs_rhp['bats'] = 'R'\n",
    "rhh_vs_rhp['pitch'] = 'R'\n",
    "rhh_vs_lhp['bats'] = 'R'\n",
    "rhh_vs_lhp['pitch'] = 'L'"
   ]
  },
  {
   "cell_type": "code",
   "execution_count": 35,
   "metadata": {
    "ExecuteTime": {
     "end_time": "2021-06-06T21:40:23.361269Z",
     "start_time": "2021-06-06T21:40:23.343907Z"
    }
   },
   "outputs": [],
   "source": [
    "batters = pd.concat([lhh_vs_lhp, lhh_vs_rhp, rhh_vs_lhp, rhh_vs_rhp])"
   ]
  },
  {
   "cell_type": "code",
   "execution_count": 33,
   "metadata": {
    "ExecuteTime": {
     "end_time": "2021-06-06T21:29:31.655946Z",
     "start_time": "2021-06-06T21:29:31.455355Z"
    }
   },
   "outputs": [],
   "source": [
    "lhp_vs_lhh = pd.read_csv('./Datasets/Splits Leaderboard Data vs LHH as LHP.csv')\n",
    "lhp_vs_rhh = pd.read_csv('./Datasets/Splits Leaderboard Data vs RHH as LHP.csv')\n",
    "rhp_vs_lhh = pd.read_csv('./Datasets/Splits Leaderboard Data vs LHH as RHP.csv')\n",
    "rhp_vs_rhh = pd.read_csv('./Datasets/Splits Leaderboard Data vs RHH as RHP.csv')"
   ]
  },
  {
   "cell_type": "code",
   "execution_count": 39,
   "metadata": {
    "ExecuteTime": {
     "end_time": "2021-06-07T01:41:38.324988Z",
     "start_time": "2021-06-07T01:41:38.246146Z"
    }
   },
   "outputs": [],
   "source": [
    "lhp_vs_lhh['throws'] = 'L'\n",
    "lhp_vs_lhh['batter'] = 'L'\n",
    "lhp_vs_rhh['throws'] = 'L'\n",
    "lhp_vs_rhh['batter'] = 'R'\n",
    "rhp_vs_lhh['throws'] = 'R'\n",
    "rhp_vs_lhh['batter'] = 'L'\n",
    "rhp_vs_rhh['throws'] = 'R'\n",
    "rhp_vs_rhh['batter'] = 'R'"
   ]
  },
  {
   "cell_type": "code",
   "execution_count": 40,
   "metadata": {
    "ExecuteTime": {
     "end_time": "2021-06-07T01:41:39.034658Z",
     "start_time": "2021-06-07T01:41:38.974251Z"
    }
   },
   "outputs": [],
   "source": [
    "pitchers = pd.concat([lhp_vs_lhh, lhp_vs_rhh, rhp_vs_lhh, rhp_vs_rhh])"
   ]
  },
  {
   "cell_type": "code",
   "execution_count": 41,
   "metadata": {
    "ExecuteTime": {
     "end_time": "2021-06-07T01:41:39.777921Z",
     "start_time": "2021-06-07T01:41:39.673869Z"
    }
   },
   "outputs": [],
   "source": [
    "batters.to_csv('./Datasets/batter_stats.csv', index = False)\n",
    "pitchers.to_csv('./Datasets/pitcher_stats.csv', index = False)"
   ]
  },
  {
   "cell_type": "code",
   "execution_count": 6,
   "metadata": {
    "ExecuteTime": {
     "end_time": "2021-05-29T22:03:19.024124Z",
     "start_time": "2021-05-29T22:03:19.009389Z"
    }
   },
   "outputs": [],
   "source": [
    "lineups = pd.read_csv('./Datasets/Downloads/Lineups_2021_05_29.csv')"
   ]
  },
  {
   "cell_type": "code",
   "execution_count": 31,
   "metadata": {
    "ExecuteTime": {
     "end_time": "2021-06-06T18:18:29.294290Z",
     "start_time": "2021-06-06T18:18:29.288503Z"
    }
   },
   "outputs": [],
   "source": [
    "team_list_5_29 = []\n",
    "for team in lineups['team code']:\n",
    "    if team not in team_list_5_29:\n",
    "        team_list_5_29.append(team)\n",
    "matchups_5_29 = {}\n",
    "for i in range(0, len(team_list), 2):\n",
    "    matchups_5_29[team_list_5_29[i]] = team_list_5_29[i+1]\n",
    "    matchups_5_29[team_list_5_29[i+1]] = team_list_5_29[i]"
   ]
  },
  {
   "cell_type": "code",
   "execution_count": 32,
   "metadata": {
    "ExecuteTime": {
     "end_time": "2021-06-06T18:18:29.822883Z",
     "start_time": "2021-06-06T18:18:29.816819Z"
    }
   },
   "outputs": [
    {
     "data": {
      "text/plain": [
       "{'COL': 'PIT',\n",
       " 'PIT': 'COL',\n",
       " 'PHI': 'TB',\n",
       " 'TB': 'PHI',\n",
       " 'MIL': 'WAS',\n",
       " 'WAS': 'MIL',\n",
       " 'BAL': 'CHW',\n",
       " 'CHW': 'BAL',\n",
       " 'KC': 'MIN',\n",
       " 'MIN': 'KC',\n",
       " 'CIN': 'CHC',\n",
       " 'CHC': 'CIN',\n",
       " 'LAA': 'OAK',\n",
       " 'OAK': 'LAA',\n",
       " 'MIA': 'BOS',\n",
       " 'BOS': 'MIA',\n",
       " 'TOR': 'CLE',\n",
       " 'CLE': 'TOR',\n",
       " 'NYY': 'DET',\n",
       " 'DET': 'NYY',\n",
       " 'SD': 'HOU',\n",
       " 'HOU': 'SD',\n",
       " 'ATL': 'NYM',\n",
       " 'NYM': 'ATL',\n",
       " 'SF': 'LAD',\n",
       " 'LAD': 'SF',\n",
       " 'STL': 'ARI',\n",
       " 'ARI': 'STL',\n",
       " 'TEX': 'SEA',\n",
       " 'SEA': 'TEX'}"
      ]
     },
     "execution_count": 32,
     "metadata": {},
     "output_type": "execute_result"
    }
   ],
   "source": [
    "matchups_5_29"
   ]
  },
  {
   "cell_type": "code",
   "execution_count": 14,
   "metadata": {
    "ExecuteTime": {
     "end_time": "2021-05-29T22:18:04.538040Z",
     "start_time": "2021-05-29T22:18:04.531432Z"
    }
   },
   "outputs": [
    {
     "data": {
      "text/plain": [
       "{'ARI',\n",
       " 'ATL',\n",
       " 'BAL',\n",
       " 'BOS',\n",
       " 'CHC',\n",
       " 'CHW',\n",
       " 'CIN',\n",
       " 'CLE',\n",
       " 'COL',\n",
       " 'DET',\n",
       " 'HOU',\n",
       " 'KC',\n",
       " 'LAA',\n",
       " 'LAD',\n",
       " 'MIA',\n",
       " 'MIL',\n",
       " 'MIN',\n",
       " 'NYM',\n",
       " 'NYY',\n",
       " 'OAK',\n",
       " 'PHI',\n",
       " 'PIT',\n",
       " 'SD',\n",
       " 'SEA',\n",
       " 'SF',\n",
       " 'STL',\n",
       " 'TB',\n",
       " 'TEX',\n",
       " 'TOR',\n",
       " 'WAS'}"
      ]
     },
     "execution_count": 14,
     "metadata": {},
     "output_type": "execute_result"
    }
   ],
   "source": []
  },
  {
   "cell_type": "code",
   "execution_count": null,
   "metadata": {},
   "outputs": [],
   "source": [
    "def inning(players, pitcher):\n",
    "    outs = 0\n",
    "    bases = [0,0,0]"
   ]
  }
 ],
 "metadata": {
  "kernelspec": {
   "display_name": "Python 3",
   "language": "python",
   "name": "python3"
  },
  "language_info": {
   "codemirror_mode": {
    "name": "ipython",
    "version": 3
   },
   "file_extension": ".py",
   "mimetype": "text/x-python",
   "name": "python",
   "nbconvert_exporter": "python",
   "pygments_lexer": "ipython3",
   "version": "3.8.5"
  }
 },
 "nbformat": 4,
 "nbformat_minor": 4
}
